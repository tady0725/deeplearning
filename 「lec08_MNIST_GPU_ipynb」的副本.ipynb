{
  "nbformat": 4,
  "nbformat_minor": 0,
  "metadata": {
    "anaconda-cloud": {},
    "kernelspec": {
      "display_name": "Python 3",
      "language": "python",
      "name": "python3"
    },
    "language_info": {
      "codemirror_mode": {
        "name": "ipython",
        "version": 3
      },
      "file_extension": ".py",
      "mimetype": "text/x-python",
      "name": "python",
      "nbconvert_exporter": "python",
      "pygments_lexer": "ipython3",
      "version": "3.5.5"
    },
    "colab": {
      "name": "「lec08 MNIST-GPU.ipynb」的副本",
      "provenance": [],
      "include_colab_link": true
    },
    "accelerator": "GPU"
  },
  "cells": [
    {
      "cell_type": "markdown",
      "metadata": {
        "id": "view-in-github",
        "colab_type": "text"
      },
      "source": [
        "<a href=\"https://colab.research.google.com/github/tady0725/deeplearning/blob/my-store/%E3%80%8Clec08_MNIST_GPU_ipynb%E3%80%8D%E7%9A%84%E5%89%AF%E6%9C%AC.ipynb\" target=\"_parent\"><img src=\"https://colab.research.google.com/assets/colab-badge.svg\" alt=\"Open In Colab\"/></a>"
      ]
    },
    {
      "cell_type": "markdown",
      "metadata": {
        "id": "DGCvz-WIPzmZ"
      },
      "source": [
        "### Book by Chollet, Deep Learning with Python "
      ]
    },
    {
      "cell_type": "code",
      "metadata": {
        "id": "uGlOP5xoPzmb",
        "colab": {
          "base_uri": "https://localhost:8080/",
          "height": 35
        },
        "outputId": "e36ba500-1482-4bb6-f4a8-34abb08ee0c8"
      },
      "source": [
        "import keras\n",
        "keras.__version__"
      ],
      "execution_count": 1,
      "outputs": [
        {
          "output_type": "execute_result",
          "data": {
            "application/vnd.google.colaboratory.intrinsic+json": {
              "type": "string"
            },
            "text/plain": [
              "'2.5.0'"
            ]
          },
          "metadata": {
            "tags": []
          },
          "execution_count": 1
        }
      ]
    },
    {
      "cell_type": "markdown",
      "metadata": {
        "id": "fP6YZm9MPzmc"
      },
      "source": [
        "# A first look at a neural network\n",
        "\n",
        "This notebook contains the code samples found in Chapter 2, Section 1 of [Deep Learning with Python](https://www.manning.com/books/deep-learning-with-python?a_aid=keras&a_bid=76564dff). \n",
        "\n",
        "----\n",
        "\n",
        "classify hand-written digits. \n",
        "\n",
        "The problem we are trying to solve here is to <font color=\"red\">classify grayscale images of handwritten digits (28 pixels by 28 pixels), into their 10 \n",
        "categories (0 to 9)</font>. \n",
        "\n",
        "The dataset we will use is the MNIST dataset, a classic dataset in the machine learning community, which has been around for almost as long as the field itself and has been very intensively studied. \n",
        "\n",
        "It's <font color=\"red\">a set of 60,000 training images, plus 10,000 test \n",
        "images, assembled by the National Institute of Standards and Technology (the NIST in MNIST)</font> in the 1980s. You can think of \"solving\" MNIST \n",
        "as the \"Hello World\" of deep learning -- it's what you do to verify that your algorithms are working as expected. \n",
        "\n",
        "As you become a machine \n",
        "learning practitioner, you will see MNIST come up over and over again, in scientific papers, blog posts, and so on.\n",
        "\n",
        "* <font color=\"red\">A class</font>: a category in a classification problem. Now {0, 1, 2, ..., 9} \n",
        "* <font color=\"red\">Samples</font>: Data points. Now 0, 2, 4, 3   \n",
        "* <font color=\"red\">A label</font>: The class associated with a specific sample. Now 0, 2, 4, 3"
      ]
    },
    {
      "cell_type": "code",
      "metadata": {
        "id": "JQPeWjA2Pzmd",
        "colab": {
          "base_uri": "https://localhost:8080/",
          "height": 97
        },
        "outputId": "c2722f65-3cfd-4a66-cb92-0c9e6cb8fa22"
      },
      "source": [
        "from IPython.display import Image\n",
        "Image(filename='data/05-Chollet-MNIST-sample.jpg')"
      ],
      "execution_count": 2,
      "outputs": [
        {
          "output_type": "execute_result",
          "data": {
            "image/jpeg": "[encoded data removed]",
            "text/plain": [
              "<IPython.core.display.Image object>"
            ]
          },
          "metadata": {
            "tags": []
          },
          "execution_count": 2
        }
      ]
    },
    {
      "cell_type": "markdown",
      "metadata": {
        "id": "-Prg-_H1Pzmd"
      },
      "source": [
        "The MNIST dataset comes pre-loaded in Keras, in the form of <font color=\"red\">a set of four Numpy arrays</font>:"
      ]
    },
    {
      "cell_type": "code",
      "metadata": {
        "id": "oT8QfOD3Pzmd",
        "colab": {
          "base_uri": "https://localhost:8080/"
        },
        "outputId": "47163b8a-85cf-4bb4-8588-7fee3e658f68"
      },
      "source": [
        "from keras.datasets import mnist\n",
        "\n",
        "(train_images, train_labels), (test_images, test_labels) = mnist.load_data()"
      ],
      "execution_count": 3,
      "outputs": [
        {
          "output_type": "stream",
          "text": [
            "Downloading data from https://storage.googleapis.com/tensorflow/tf-keras-datasets/mnist.npz\n",
            "11493376/11490434 [==============================] - 0s 0us/step\n",
            "11501568/11490434 [==============================] - 0s 0us/step\n"
          ],
          "name": "stdout"
        }
      ]
    },
    {
      "cell_type": "markdown",
      "metadata": {
        "id": "TFSy3EdBPzme"
      },
      "source": [
        "* `train_images` and `train_labels` form the \"training set\", the data that the model will learn from.\n",
        "* The model will then be tested on the \"test set\", `test_images` and `test_labels`. \n",
        "* Our images are encoded as Numpy arrays, and the labels are simply an array of digits, ranging from 0 to 9. \n",
        "* There is a one-to-one correspondence between the images and the labels.\n",
        "* Let's have a look at the training data:"
      ]
    },
    {
      "cell_type": "code",
      "metadata": {
        "id": "TULjcBJQPzme",
        "colab": {
          "base_uri": "https://localhost:8080/"
        },
        "outputId": "e5ef4c51-2113-46bd-cc32-f6c7ae8dc1c1"
      },
      "source": [
        "train_images.shape, train_images.dtype"
      ],
      "execution_count": 4,
      "outputs": [
        {
          "output_type": "execute_result",
          "data": {
            "text/plain": [
              "((60000, 28, 28), dtype('uint8'))"
            ]
          },
          "metadata": {
            "tags": []
          },
          "execution_count": 4
        }
      ]
    },
    {
      "cell_type": "code",
      "metadata": {
        "id": "gODFFql-Pzme",
        "colab": {
          "base_uri": "https://localhost:8080/"
        },
        "outputId": "b019e9ba-e5cb-4096-f156-6bf4fbd00cc3"
      },
      "source": [
        "test_images.shape, test_images.dtype"
      ],
      "execution_count": 5,
      "outputs": [
        {
          "output_type": "execute_result",
          "data": {
            "text/plain": [
              "((10000, 28, 28), dtype('uint8'))"
            ]
          },
          "metadata": {
            "tags": []
          },
          "execution_count": 5
        }
      ]
    },
    {
      "cell_type": "markdown",
      "metadata": {
        "id": "3gFLj6xiPzmf"
      },
      "source": [
        "# Data representations for neural networks\n",
        "\n",
        "* We started from data stored in multidimensional Numpy arrays, also called tensors.\n",
        "* A tensor is a container for data -- almost always numerical data.\n",
        "* A tensor is defined by three key attributes: <br>\n",
        "    1. Number of axes: A 3D tensor has three axes, and a matrix has two axes. This is also called the tensor’s ndim in Python libraries such as Numpy\n",
        "    2. Shape—This is a tuple of integers that describes how many dimensions the tensor has along each axis.\n",
        "    3. Data type (usually called dtype in Python libraries)—This is the type of the data contained in the tensor; for instance, a tensor’s type could be float32, uint8, float64, and so on."
      ]
    },
    {
      "cell_type": "code",
      "metadata": {
        "id": "cCuRMwdXPzmf"
      },
      "source": [
        ""
      ],
      "execution_count": 5,
      "outputs": []
    },
    {
      "cell_type": "markdown",
      "metadata": {
        "id": "FStaWEkePzmf"
      },
      "source": [
        "### The first image "
      ]
    },
    {
      "cell_type": "code",
      "metadata": {
        "id": "xsWmO16aPzmg",
        "colab": {
          "base_uri": "https://localhost:8080/"
        },
        "outputId": "26e0985d-ca33-4167-b9ca-ed736500f75b"
      },
      "source": [
        "train_labels[0]"
      ],
      "execution_count": 6,
      "outputs": [
        {
          "output_type": "execute_result",
          "data": {
            "text/plain": [
              "5"
            ]
          },
          "metadata": {
            "tags": []
          },
          "execution_count": 6
        }
      ]
    },
    {
      "cell_type": "code",
      "metadata": {
        "id": "4U59vcI5Pzmg",
        "colab": {
          "base_uri": "https://localhost:8080/",
          "height": 242
        },
        "outputId": "ff0ee74b-bfe8-4fe0-8233-451be17a832e"
      },
      "source": [
        "from IPython.display import Image\n",
        "Image(filename='data/05-MNIST.png')\n",
        "# https://www.google.com.tw/search?q=mnist+5+example&safe=strict&source=lnms&tbm=isch&sa=X&ved=0ahUKEwjj35TfzPzaAhVFF5QKHQDQBQQQ_AUICigB&biw=1242&bih=535#imgdii=eDz5NFA-o0FzdM:&imgrc=DDeyErCS8Yf-MM:"
      ],
      "execution_count": 7,
      "outputs": [
        {
          "output_type": "execute_result",
          "data": {
            "image/png": "[encoded data removed]",
            "text/plain": [
              "<IPython.core.display.Image object>"
            ]
          },
          "metadata": {
            "tags": []
          },
          "execution_count": 7
        }
      ]
    },
    {
      "cell_type": "markdown",
      "metadata": {
        "id": "eOGxDIo5Pzmg"
      },
      "source": [
        "* 0 是黑色，255 是白色 \n",
        "* 8 位元，2^8 = 256"
      ]
    },
    {
      "cell_type": "code",
      "metadata": {
        "id": "Mwf3_JigPzmg",
        "colab": {
          "base_uri": "https://localhost:8080/"
        },
        "outputId": "5f80f63d-d0a6-43de-92f7-4aae1d45df14"
      },
      "source": [
        "train_images.shape"
      ],
      "execution_count": 8,
      "outputs": [
        {
          "output_type": "execute_result",
          "data": {
            "text/plain": [
              "(60000, 28, 28)"
            ]
          },
          "metadata": {
            "tags": []
          },
          "execution_count": 8
        }
      ]
    },
    {
      "cell_type": "code",
      "metadata": {
        "id": "sucD8Z8-Pzmh",
        "colab": {
          "base_uri": "https://localhost:8080/",
          "height": 265
        },
        "outputId": "d807c064-5931-4dfb-e15a-e1fecacc5868"
      },
      "source": [
        "import matplotlib.pyplot as plt\n",
        "# import numpy as np\n",
        "plt.imshow(train_images[0,:,:], cmap = plt.cm.gray) \n",
        "plt.show()"
      ],
      "execution_count": 9,
      "outputs": [
        {
          "output_type": "display_data",
          "data": {
            "image/png": "[encoded data removed]",
            "text/plain": [
              "<Figure size 432x288 with 1 Axes>"
            ]
          },
          "metadata": {
            "tags": [],
            "needs_background": "light"
          }
        }
      ]
    },
    {
      "cell_type": "code",
      "metadata": {
        "id": "v85UA2ViPzmh",
        "colab": {
          "base_uri": "https://localhost:8080/"
        },
        "outputId": "8521b78c-bcac-483e-8a6b-4ad0323bd728"
      },
      "source": [
        "train_images[0,7,:]"
      ],
      "execution_count": 10,
      "outputs": [
        {
          "output_type": "execute_result",
          "data": {
            "text/plain": [
              "array([  0,   0,   0,   0,   0,   0,   0,  49, 238, 253, 253, 253, 253,\n",
              "       253, 253, 253, 253, 251,  93,  82,  82,  56,  39,   0,   0,   0,\n",
              "         0,   0], dtype=uint8)"
            ]
          },
          "metadata": {
            "tags": []
          },
          "execution_count": 10
        }
      ]
    },
    {
      "cell_type": "code",
      "metadata": {
        "id": "8oycwG_JPzmh",
        "colab": {
          "base_uri": "https://localhost:8080/"
        },
        "outputId": "4aae2efb-29fe-47a8-ef45-c79a8f0e2c9f"
      },
      "source": [
        "train_images[0] # Look at the top and bottom rows "
      ],
      "execution_count": 11,
      "outputs": [
        {
          "output_type": "execute_result",
          "data": {
            "text/plain": [
              "array([[  0,   0,   0,   0,   0,   0,   0,   0,   0,   0,   0,   0,   0,\n",
              "          0,   0,   0,   0,   0,   0,   0,   0,   0,   0,   0,   0,   0,\n",
              "          0,   0],\n",
              "       [  0,   0,   0,   0,   0,   0,   0,   0,   0,   0,   0,   0,   0,\n",
              "          0,   0,   0,   0,   0,   0,   0,   0,   0,   0,   0,   0,   0,\n",
              "          0,   0],\n",
              "       [  0,   0,   0,   0,   0,   0,   0,   0,   0,   0,   0,   0,   0,\n",
              "          0,   0,   0,   0,   0,   0,   0,   0,   0,   0,   0,   0,   0,\n",
              "          0,   0],\n",
              "       [  0,   0,   0,   0,   0,   0,   0,   0,   0,   0,   0,   0,   0,\n",
              "          0,   0,   0,   0,   0,   0,   0,   0,   0,   0,   0,   0,   0,\n",
              "          0,   0],\n",
              "       [  0,   0,   0,   0,   0,   0,   0,   0,   0,   0,   0,   0,   0,\n",
              "          0,   0,   0,   0,   0,   0,   0,   0,   0,   0,   0,   0,   0,\n",
              "          0,   0],\n",
              "       [  0,   0,   0,   0,   0,   0,   0,   0,   0,   0,   0,   0,   3,\n",
              "         18,  18,  18, 126, 136, 175,  26, 166, 255, 247, 127,   0,   0,\n",
              "          0,   0],\n",
              "       [  0,   0,   0,   0,   0,   0,   0,   0,  30,  36,  94, 154, 170,\n",
              "        253, 253, 253, 253, 253, 225, 172, 253, 242, 195,  64,   0,   0,\n",
              "          0,   0],\n",
              "       [  0,   0,   0,   0,   0,   0,   0,  49, 238, 253, 253, 253, 253,\n",
              "        253, 253, 253, 253, 251,  93,  82,  82,  56,  39,   0,   0,   0,\n",
              "          0,   0],\n",
              "       [  0,   0,   0,   0,   0,   0,   0,  18, 219, 253, 253, 253, 253,\n",
              "        253, 198, 182, 247, 241,   0,   0,   0,   0,   0,   0,   0,   0,\n",
              "          0,   0],\n",
              "       [  0,   0,   0,   0,   0,   0,   0,   0,  80, 156, 107, 253, 253,\n",
              "        205,  11,   0,  43, 154,   0,   0,   0,   0,   0,   0,   0,   0,\n",
              "          0,   0],\n",
              "       [  0,   0,   0,   0,   0,   0,   0,   0,   0,  14,   1, 154, 253,\n",
              "         90,   0,   0,   0,   0,   0,   0,   0,   0,   0,   0,   0,   0,\n",
              "          0,   0],\n",
              "       [  0,   0,   0,   0,   0,   0,   0,   0,   0,   0,   0, 139, 253,\n",
              "        190,   2,   0,   0,   0,   0,   0,   0,   0,   0,   0,   0,   0,\n",
              "          0,   0],\n",
              "       [  0,   0,   0,   0,   0,   0,   0,   0,   0,   0,   0,  11, 190,\n",
              "        253,  70,   0,   0,   0,   0,   0,   0,   0,   0,   0,   0,   0,\n",
              "          0,   0],\n",
              "       [  0,   0,   0,   0,   0,   0,   0,   0,   0,   0,   0,   0,  35,\n",
              "        241, 225, 160, 108,   1,   0,   0,   0,   0,   0,   0,   0,   0,\n",
              "          0,   0],\n",
              "       [  0,   0,   0,   0,   0,   0,   0,   0,   0,   0,   0,   0,   0,\n",
              "         81, 240, 253, 253, 119,  25,   0,   0,   0,   0,   0,   0,   0,\n",
              "          0,   0],\n",
              "       [  0,   0,   0,   0,   0,   0,   0,   0,   0,   0,   0,   0,   0,\n",
              "          0,  45, 186, 253, 253, 150,  27,   0,   0,   0,   0,   0,   0,\n",
              "          0,   0],\n",
              "       [  0,   0,   0,   0,   0,   0,   0,   0,   0,   0,   0,   0,   0,\n",
              "          0,   0,  16,  93, 252, 253, 187,   0,   0,   0,   0,   0,   0,\n",
              "          0,   0],\n",
              "       [  0,   0,   0,   0,   0,   0,   0,   0,   0,   0,   0,   0,   0,\n",
              "          0,   0,   0,   0, 249, 253, 249,  64,   0,   0,   0,   0,   0,\n",
              "          0,   0],\n",
              "       [  0,   0,   0,   0,   0,   0,   0,   0,   0,   0,   0,   0,   0,\n",
              "          0,  46, 130, 183, 253, 253, 207,   2,   0,   0,   0,   0,   0,\n",
              "          0,   0],\n",
              "       [  0,   0,   0,   0,   0,   0,   0,   0,   0,   0,   0,   0,  39,\n",
              "        148, 229, 253, 253, 253, 250, 182,   0,   0,   0,   0,   0,   0,\n",
              "          0,   0],\n",
              "       [  0,   0,   0,   0,   0,   0,   0,   0,   0,   0,  24, 114, 221,\n",
              "        253, 253, 253, 253, 201,  78,   0,   0,   0,   0,   0,   0,   0,\n",
              "          0,   0],\n",
              "       [  0,   0,   0,   0,   0,   0,   0,   0,  23,  66, 213, 253, 253,\n",
              "        253, 253, 198,  81,   2,   0,   0,   0,   0,   0,   0,   0,   0,\n",
              "          0,   0],\n",
              "       [  0,   0,   0,   0,   0,   0,  18, 171, 219, 253, 253, 253, 253,\n",
              "        195,  80,   9,   0,   0,   0,   0,   0,   0,   0,   0,   0,   0,\n",
              "          0,   0],\n",
              "       [  0,   0,   0,   0,  55, 172, 226, 253, 253, 253, 253, 244, 133,\n",
              "         11,   0,   0,   0,   0,   0,   0,   0,   0,   0,   0,   0,   0,\n",
              "          0,   0],\n",
              "       [  0,   0,   0,   0, 136, 253, 253, 253, 212, 135, 132,  16,   0,\n",
              "          0,   0,   0,   0,   0,   0,   0,   0,   0,   0,   0,   0,   0,\n",
              "          0,   0],\n",
              "       [  0,   0,   0,   0,   0,   0,   0,   0,   0,   0,   0,   0,   0,\n",
              "          0,   0,   0,   0,   0,   0,   0,   0,   0,   0,   0,   0,   0,\n",
              "          0,   0],\n",
              "       [  0,   0,   0,   0,   0,   0,   0,   0,   0,   0,   0,   0,   0,\n",
              "          0,   0,   0,   0,   0,   0,   0,   0,   0,   0,   0,   0,   0,\n",
              "          0,   0],\n",
              "       [  0,   0,   0,   0,   0,   0,   0,   0,   0,   0,   0,   0,   0,\n",
              "          0,   0,   0,   0,   0,   0,   0,   0,   0,   0,   0,   0,   0,\n",
              "          0,   0]], dtype=uint8)"
            ]
          },
          "metadata": {
            "tags": []
          },
          "execution_count": 11
        }
      ]
    },
    {
      "cell_type": "code",
      "metadata": {
        "id": "gGTQxt91Pzmh",
        "colab": {
          "base_uri": "https://localhost:8080/"
        },
        "outputId": "be365cd1-c554-4d6e-e17d-13fabccfaaea"
      },
      "source": [
        "len(train_labels)"
      ],
      "execution_count": 12,
      "outputs": [
        {
          "output_type": "execute_result",
          "data": {
            "text/plain": [
              "60000"
            ]
          },
          "metadata": {
            "tags": []
          },
          "execution_count": 12
        }
      ]
    },
    {
      "cell_type": "code",
      "metadata": {
        "id": "4RRC3CfuPzmi",
        "colab": {
          "base_uri": "https://localhost:8080/"
        },
        "outputId": "eba5a3cc-9c34-454f-d980-d365667fd8cb"
      },
      "source": [
        "train_labels"
      ],
      "execution_count": 13,
      "outputs": [
        {
          "output_type": "execute_result",
          "data": {
            "text/plain": [
              "array([5, 0, 4, ..., 5, 6, 8], dtype=uint8)"
            ]
          },
          "metadata": {
            "tags": []
          },
          "execution_count": 13
        }
      ]
    },
    {
      "cell_type": "markdown",
      "metadata": {
        "id": "-UXnhOR_Pzmi"
      },
      "source": [
        "#### Let's have a look at the test data:"
      ]
    },
    {
      "cell_type": "code",
      "metadata": {
        "id": "w8-_zcHdPzmi",
        "colab": {
          "base_uri": "https://localhost:8080/"
        },
        "outputId": "cc9d0c64-fe1f-4226-f31a-eaf87002139e"
      },
      "source": [
        "test_images.shape"
      ],
      "execution_count": 14,
      "outputs": [
        {
          "output_type": "execute_result",
          "data": {
            "text/plain": [
              "(10000, 28, 28)"
            ]
          },
          "metadata": {
            "tags": []
          },
          "execution_count": 14
        }
      ]
    },
    {
      "cell_type": "code",
      "metadata": {
        "id": "8kjY8To-Pzmi",
        "colab": {
          "base_uri": "https://localhost:8080/"
        },
        "outputId": "18e17fb2-27ee-4aed-e05f-8a3c4acb2089"
      },
      "source": [
        "len(test_labels)"
      ],
      "execution_count": 15,
      "outputs": [
        {
          "output_type": "execute_result",
          "data": {
            "text/plain": [
              "10000"
            ]
          },
          "metadata": {
            "tags": []
          },
          "execution_count": 15
        }
      ]
    },
    {
      "cell_type": "code",
      "metadata": {
        "id": "-tkjkOw-Pzmj",
        "colab": {
          "base_uri": "https://localhost:8080/"
        },
        "outputId": "086bb9e0-6b50-41af-c91d-920525927ff5"
      },
      "source": [
        "test_labels"
      ],
      "execution_count": 16,
      "outputs": [
        {
          "output_type": "execute_result",
          "data": {
            "text/plain": [
              "array([7, 2, 1, ..., 4, 5, 6], dtype=uint8)"
            ]
          },
          "metadata": {
            "tags": []
          },
          "execution_count": 16
        }
      ]
    },
    {
      "cell_type": "markdown",
      "metadata": {
        "id": "Tn4_whgPPzmj"
      },
      "source": [
        "Our workflow will be as follow: \n",
        "* first we will present our neural network with the training data, `train_images` and `train_labels`.\n",
        "* The network will then learn to associate images and labels. \n",
        "* Finally, we will ask the network to produce predictions for `test_images`, and we will verify if these predictions match the labels from `test_labels`."
      ]
    },
    {
      "cell_type": "code",
      "metadata": {
        "id": "NIL8kLfbPzmj"
      },
      "source": [
        "from keras import models\n",
        "from keras import layers\n",
        "\n",
        "network = models.Sequential()\n",
        "network.add(layers.Dense(512, activation='relu', input_shape=(28 * 28,)))\n",
        "network.add(layers.Dense(10, activation='softmax'))"
      ],
      "execution_count": 17,
      "outputs": []
    },
    {
      "cell_type": "markdown",
      "metadata": {
        "id": "XfovJIIQPzmj"
      },
      "source": [
        "* The core building block of neural networks is the \"layer\", a data-processing module which you can conceive as a \"filter\" for data. \n",
        "* Precisely, layers extract _representations_ out of the data fed into them -- hopefully representations that are more meaningful for the problem at hand. \n",
        "* Most of deep learning really consists of chaining together simple layers which will implement a form of progressive \"data distillation\". \n",
        "* A deep learning model is like a sieve for data processing, made of a  succession of increasingly refined data filters -- the \"layers\".\n",
        "\n",
        "* Here our network consists of a sequence of two `Dense` layers, which are densely-connected (also called \"fully-connected\") neural layers. \n",
        "* The second (and last) layer is a 10-way \"softmax\" layer, which means it will return an array of 10 probability scores (summing to 1). \n",
        "* Each score will be the probability that the current digit image belongs to one of our 10 digit classes.\n",
        "\n",
        "To make our network ready for training, we need to pick three more things, as part of \"compilation\" step:\n",
        "\n",
        "* A loss function: the is how the network will be able to measure how good a job it is doing on its training data, and thus how it will be able to steer itself in the right direction.\n",
        "* An optimizer: this is the mechanism through which the network will update itself based on the data it sees and its loss function.\n",
        "* Metrics to monitor during training and testing. Here we will only care about accuracy (the fraction of the images that were correctly classified)."
      ]
    },
    {
      "cell_type": "code",
      "metadata": {
        "id": "BZcwPOUBPzmk"
      },
      "source": [
        "network.compile(optimizer='rmsprop',\n",
        "                loss='categorical_crossentropy',\n",
        "                metrics=['accuracy'])"
      ],
      "execution_count": 18,
      "outputs": []
    },
    {
      "cell_type": "markdown",
      "metadata": {
        "id": "vMWgpwjVPzmk"
      },
      "source": [
        "* Before training, we will preprocess our data by reshaping it into the shape that the network expects, and scaling it so that all values are in the `[0, 1]` interval. \n",
        "* Previously, our training images for instance were stored in an array of shape `(60000, 28, 28)` of type `uint8` with  values in the `[0, 255]` interval. \n",
        "* We transform it into a `float32` array of shape `(60000, 28 * 28)` with values between 0 and 1."
      ]
    },
    {
      "cell_type": "code",
      "metadata": {
        "id": "pkgNe7N1Pzmk"
      },
      "source": [
        "train_images1 = train_images.reshape((60000, 28 * 28))\n",
        "train_images1 = train_images1.astype('float32') / 255\n",
        "\n",
        "test_images1 = test_images.reshape((10000, 28 * 28))\n",
        "test_images1 = test_images1.astype('float32') / 255"
      ],
      "execution_count": 19,
      "outputs": []
    },
    {
      "cell_type": "code",
      "metadata": {
        "id": "xKPuGcMbPzmk",
        "colab": {
          "base_uri": "https://localhost:8080/"
        },
        "outputId": "defb6282-e8ca-438a-afd2-1ce8fc704f33"
      },
      "source": [
        "train_images1.shape"
      ],
      "execution_count": 20,
      "outputs": [
        {
          "output_type": "execute_result",
          "data": {
            "text/plain": [
              "(60000, 784)"
            ]
          },
          "metadata": {
            "tags": []
          },
          "execution_count": 20
        }
      ]
    },
    {
      "cell_type": "code",
      "metadata": {
        "id": "K3B2uRIwPzml",
        "colab": {
          "base_uri": "https://localhost:8080/"
        },
        "outputId": "3fd9c605-bb24-4e19-989b-dc6211f22aab"
      },
      "source": [
        "train_images1[0,:].max(), train_images1[0,:].min()"
      ],
      "execution_count": 21,
      "outputs": [
        {
          "output_type": "execute_result",
          "data": {
            "text/plain": [
              "(1.0, 0.0)"
            ]
          },
          "metadata": {
            "tags": []
          },
          "execution_count": 21
        }
      ]
    },
    {
      "cell_type": "markdown",
      "metadata": {
        "id": "L8qYZWUsPzml"
      },
      "source": [
        "We also need to categorically encode the labels:"
      ]
    },
    {
      "cell_type": "code",
      "metadata": {
        "collapsed": true,
        "id": "pMLiOSZWOpQf"
      },
      "source": [
        "from tensorflow.keras.utils import to_categorical\n",
        "\n",
        "train_labels_categ = to_categorical(train_labels)\n",
        "test_labels_categ = to_categorical(test_labels)"
      ],
      "execution_count": 22,
      "outputs": []
    },
    {
      "cell_type": "code",
      "metadata": {
        "id": "K2aPAiDXPzml",
        "colab": {
          "base_uri": "https://localhost:8080/"
        },
        "outputId": "8f80b26f-b49d-45a0-fc92-e61ec43951e9"
      },
      "source": [
        "train_labels[0:10]"
      ],
      "execution_count": 23,
      "outputs": [
        {
          "output_type": "execute_result",
          "data": {
            "text/plain": [
              "array([5, 0, 4, 1, 9, 2, 1, 3, 1, 4], dtype=uint8)"
            ]
          },
          "metadata": {
            "tags": []
          },
          "execution_count": 23
        }
      ]
    },
    {
      "cell_type": "code",
      "metadata": {
        "id": "5wpFL62kPzml",
        "colab": {
          "base_uri": "https://localhost:8080/"
        },
        "outputId": "b26fc16a-9fa8-4e77-ba6e-e6818d03cd2e"
      },
      "source": [
        "train_labels_categ[0:10]"
      ],
      "execution_count": 24,
      "outputs": [
        {
          "output_type": "execute_result",
          "data": {
            "text/plain": [
              "array([[0., 0., 0., 0., 0., 1., 0., 0., 0., 0.],\n",
              "       [1., 0., 0., 0., 0., 0., 0., 0., 0., 0.],\n",
              "       [0., 0., 0., 0., 1., 0., 0., 0., 0., 0.],\n",
              "       [0., 1., 0., 0., 0., 0., 0., 0., 0., 0.],\n",
              "       [0., 0., 0., 0., 0., 0., 0., 0., 0., 1.],\n",
              "       [0., 0., 1., 0., 0., 0., 0., 0., 0., 0.],\n",
              "       [0., 1., 0., 0., 0., 0., 0., 0., 0., 0.],\n",
              "       [0., 0., 0., 1., 0., 0., 0., 0., 0., 0.],\n",
              "       [0., 1., 0., 0., 0., 0., 0., 0., 0., 0.],\n",
              "       [0., 0., 0., 0., 1., 0., 0., 0., 0., 0.]], dtype=float32)"
            ]
          },
          "metadata": {
            "tags": []
          },
          "execution_count": 24
        }
      ]
    },
    {
      "cell_type": "markdown",
      "metadata": {
        "id": "uf7ubydfPzmm"
      },
      "source": [
        "We are now ready to train our network, which in Keras is done via a call to the `fit` method of the network: \n",
        "we \"fit\" the model to its training data."
      ]
    },
    {
      "cell_type": "code",
      "metadata": {
        "id": "x7KBamGpPzmm",
        "colab": {
          "base_uri": "https://localhost:8080/"
        },
        "outputId": "db496769-99d7-4f87-969f-8cb099b24af1"
      },
      "source": [
        "history = network.fit(train_images1, train_labels_categ, epochs= 5, batch_size=128, \n",
        "                      validation_data=(test_images1, test_labels_categ))"
      ],
      "execution_count": 25,
      "outputs": [
        {
          "output_type": "stream",
          "text": [
            "Epoch 1/5\n",
            "469/469 [==============================] - 16s 4ms/step - loss: 0.4203 - accuracy: 0.8806 - val_loss: 0.1280 - val_accuracy: 0.9610\n",
            "Epoch 2/5\n",
            "469/469 [==============================] - 1s 3ms/step - loss: 0.1066 - accuracy: 0.9685 - val_loss: 0.0916 - val_accuracy: 0.9718\n",
            "Epoch 3/5\n",
            "469/469 [==============================] - 2s 3ms/step - loss: 0.0698 - accuracy: 0.9791 - val_loss: 0.0742 - val_accuracy: 0.9772\n",
            "Epoch 4/5\n",
            "469/469 [==============================] - 2s 3ms/step - loss: 0.0470 - accuracy: 0.9864 - val_loss: 0.0689 - val_accuracy: 0.9792\n",
            "Epoch 5/5\n",
            "469/469 [==============================] - 2s 4ms/step - loss: 0.0348 - accuracy: 0.9897 - val_loss: 0.0676 - val_accuracy: 0.9799\n"
          ],
          "name": "stdout"
        }
      ]
    },
    {
      "cell_type": "code",
      "metadata": {
        "id": "ZrG_tTtYPzmm",
        "colab": {
          "base_uri": "https://localhost:8080/"
        },
        "outputId": "d99dc030-070b-47cc-f4c3-b6b571ffee9c"
      },
      "source": [
        "1 / 60000"
      ],
      "execution_count": 26,
      "outputs": [
        {
          "output_type": "execute_result",
          "data": {
            "text/plain": [
              "1.6666666666666667e-05"
            ]
          },
          "metadata": {
            "tags": []
          },
          "execution_count": 26
        }
      ]
    },
    {
      "cell_type": "markdown",
      "metadata": {
        "id": "qanyGe3MPzmm"
      },
      "source": [
        "* A microsecond is an SI unit of time equal to one millionth (0.000001 or 10−6 or 1/1,000,000) of a second. Its symbol is μs.\n"
      ]
    },
    {
      "cell_type": "markdown",
      "metadata": {
        "id": "PUkqZq81Pzmm"
      },
      "source": [
        "## 8.2.2 Performance "
      ]
    },
    {
      "cell_type": "code",
      "metadata": {
        "id": "9mdbvD6jPzmn",
        "colab": {
          "base_uri": "https://localhost:8080/"
        },
        "outputId": "15749f2a-bc41-43ae-cf3e-ca878aef71fa"
      },
      "source": [
        "history = network.fit(train_images1, train_labels_categ, epochs= 20, batch_size=128, \n",
        "                      validation_data=(test_images1, test_labels_categ))"
      ],
      "execution_count": 27,
      "outputs": [
        {
          "output_type": "stream",
          "text": [
            "Epoch 1/20\n",
            "469/469 [==============================] - 2s 3ms/step - loss: 0.0284 - accuracy: 0.9917 - val_loss: 0.0703 - val_accuracy: 0.9800\n",
            "Epoch 2/20\n",
            "469/469 [==============================] - 2s 4ms/step - loss: 0.0205 - accuracy: 0.9944 - val_loss: 0.0673 - val_accuracy: 0.9818\n",
            "Epoch 3/20\n",
            "469/469 [==============================] - 2s 3ms/step - loss: 0.0160 - accuracy: 0.9953 - val_loss: 0.0696 - val_accuracy: 0.9817\n",
            "Epoch 4/20\n",
            "469/469 [==============================] - 2s 4ms/step - loss: 0.0127 - accuracy: 0.9966 - val_loss: 0.0685 - val_accuracy: 0.9814\n",
            "Epoch 5/20\n",
            "469/469 [==============================] - 2s 4ms/step - loss: 0.0089 - accuracy: 0.9978 - val_loss: 0.0699 - val_accuracy: 0.9831\n",
            "Epoch 6/20\n",
            "469/469 [==============================] - 2s 4ms/step - loss: 0.0074 - accuracy: 0.9978 - val_loss: 0.0760 - val_accuracy: 0.9816\n",
            "Epoch 7/20\n",
            "469/469 [==============================] - 2s 3ms/step - loss: 0.0057 - accuracy: 0.9985 - val_loss: 0.0783 - val_accuracy: 0.9811\n",
            "Epoch 8/20\n",
            "469/469 [==============================] - 2s 3ms/step - loss: 0.0046 - accuracy: 0.9988 - val_loss: 0.0780 - val_accuracy: 0.9814\n",
            "Epoch 9/20\n",
            "469/469 [==============================] - 2s 3ms/step - loss: 0.0035 - accuracy: 0.9991 - val_loss: 0.0806 - val_accuracy: 0.9819\n",
            "Epoch 10/20\n",
            "469/469 [==============================] - 2s 3ms/step - loss: 0.0027 - accuracy: 0.9992 - val_loss: 0.0802 - val_accuracy: 0.9816\n",
            "Epoch 11/20\n",
            "469/469 [==============================] - 1s 3ms/step - loss: 0.0021 - accuracy: 0.9994 - val_loss: 0.0849 - val_accuracy: 0.9822\n",
            "Epoch 12/20\n",
            "469/469 [==============================] - 2s 3ms/step - loss: 0.0016 - accuracy: 0.9995 - val_loss: 0.0898 - val_accuracy: 0.9832\n",
            "Epoch 13/20\n",
            "469/469 [==============================] - 2s 3ms/step - loss: 0.0013 - accuracy: 0.9997 - val_loss: 0.0906 - val_accuracy: 0.9834\n",
            "Epoch 14/20\n",
            "469/469 [==============================] - 1s 3ms/step - loss: 0.0011 - accuracy: 0.9998 - val_loss: 0.0960 - val_accuracy: 0.9832\n",
            "Epoch 15/20\n",
            "469/469 [==============================] - 2s 3ms/step - loss: 7.5334e-04 - accuracy: 0.9999 - val_loss: 0.1019 - val_accuracy: 0.9821\n",
            "Epoch 16/20\n",
            "469/469 [==============================] - 2s 3ms/step - loss: 6.4305e-04 - accuracy: 0.9999 - val_loss: 0.1045 - val_accuracy: 0.9825\n",
            "Epoch 17/20\n",
            "469/469 [==============================] - 1s 3ms/step - loss: 5.3883e-04 - accuracy: 0.9998 - val_loss: 0.1046 - val_accuracy: 0.9811\n",
            "Epoch 18/20\n",
            "469/469 [==============================] - 1s 3ms/step - loss: 6.8004e-04 - accuracy: 0.9998 - val_loss: 0.1118 - val_accuracy: 0.9819\n",
            "Epoch 19/20\n",
            "469/469 [==============================] - 1s 3ms/step - loss: 3.2247e-04 - accuracy: 0.9999 - val_loss: 0.1032 - val_accuracy: 0.9823\n",
            "Epoch 20/20\n",
            "469/469 [==============================] - 1s 3ms/step - loss: 2.1091e-04 - accuracy: 0.9999 - val_loss: 0.1123 - val_accuracy: 0.9823\n"
          ],
          "name": "stdout"
        }
      ]
    },
    {
      "cell_type": "code",
      "metadata": {
        "id": "zE40IhcNPzmn",
        "colab": {
          "base_uri": "https://localhost:8080/"
        },
        "outputId": "e44f8edb-99af-4705-ea67-d91e19c95ced"
      },
      "source": [
        "history_dict = history.history\n",
        "history_dict.keys() "
      ],
      "execution_count": 28,
      "outputs": [
        {
          "output_type": "execute_result",
          "data": {
            "text/plain": [
              "dict_keys(['loss', 'accuracy', 'val_loss', 'val_accuracy'])"
            ]
          },
          "metadata": {
            "tags": []
          },
          "execution_count": 28
        }
      ]
    },
    {
      "cell_type": "code",
      "metadata": {
        "id": "rZDVwwO1VO8_",
        "colab": {
          "base_uri": "https://localhost:8080/"
        },
        "outputId": "eec2e144-ce6f-4dfe-8c0d-2202b16677d9"
      },
      "source": [
        "list(history_dict.keys())"
      ],
      "execution_count": 29,
      "outputs": [
        {
          "output_type": "execute_result",
          "data": {
            "text/plain": [
              "['loss', 'accuracy', 'val_loss', 'val_accuracy']"
            ]
          },
          "metadata": {
            "tags": []
          },
          "execution_count": 29
        }
      ]
    },
    {
      "cell_type": "code",
      "metadata": {
        "id": "dKTiB4YQPzmn",
        "colab": {
          "base_uri": "https://localhost:8080/",
          "height": 295
        },
        "outputId": "260f5e9e-d172-4799-dd86-8865ee587b1c"
      },
      "source": [
        "import matplotlib.pyplot as plt\n",
        "\n",
        "acc = history.history[list(history_dict.keys())[1]]\n",
        "val_acc = history.history[list(history_dict.keys())[3]]\n",
        "loss = history.history[list(history_dict.keys())[0]]\n",
        "val_loss = history.history[list(history_dict.keys())[2]]\n",
        "\n",
        "epochs = range(1, len(acc) + 1)\n",
        "\n",
        "# \"bo\" is for \"blue dot\"\n",
        "plt.plot(epochs, loss, 'bo', label='Training loss')\n",
        "# b is for \"solid blue line\"\n",
        "plt.plot(epochs, val_loss, 'b', label='Validation loss')\n",
        "plt.title('Training and validation loss')\n",
        "plt.xlabel('Epochs')\n",
        "plt.ylabel('Loss')\n",
        "plt.legend()\n",
        "plt.grid()\n",
        "plt.show()"
      ],
      "execution_count": 30,
      "outputs": [
        {
          "output_type": "display_data",
          "data": {
            "image/png": "[encoded data removed]",
            "text/plain": [
              "<Figure size 432x288 with 1 Axes>"
            ]
          },
          "metadata": {
            "tags": [],
            "needs_background": "light"
          }
        }
      ]
    },
    {
      "cell_type": "code",
      "metadata": {
        "scrolled": true,
        "id": "9sgR2UccPzmn",
        "colab": {
          "base_uri": "https://localhost:8080/",
          "height": 295
        },
        "outputId": "73916e39-621a-4823-a2d8-7ad825417482"
      },
      "source": [
        "plt.clf()   # clear figure\n",
        "plt.plot(epochs, acc, 'bo', label='Training acc')\n",
        "plt.plot(epochs, val_acc, 'b', label='Validation acc')\n",
        "plt.title('Training and validation accuracy')\n",
        "plt.xlabel('Epochs')\n",
        "plt.ylabel('Loss')\n",
        "plt.legend()\n",
        "plt.grid()\n",
        "plt.show()"
      ],
      "execution_count": 31,
      "outputs": [
        {
          "output_type": "display_data",
          "data": {
            "image/png": "[encoded data removed]",
            "text/plain": [
              "<Figure size 432x288 with 1 Axes>"
            ]
          },
          "metadata": {
            "tags": [],
            "needs_background": "light"
          }
        }
      ]
    },
    {
      "cell_type": "code",
      "metadata": {
        "id": "y7OeU-wbPzmn",
        "colab": {
          "base_uri": "https://localhost:8080/"
        },
        "outputId": "4bde5de7-2d41-4594-fb40-d0a6ad3300da"
      },
      "source": [
        "history.history['accuracy'][19] "
      ],
      "execution_count": 32,
      "outputs": [
        {
          "output_type": "execute_result",
          "data": {
            "text/plain": [
              "0.9999333620071411"
            ]
          },
          "metadata": {
            "tags": []
          },
          "execution_count": 32
        }
      ]
    },
    {
      "cell_type": "code",
      "metadata": {
        "id": "i_0H6LhkPzmo",
        "colab": {
          "base_uri": "https://localhost:8080/"
        },
        "outputId": "edc9e42f-f5b0-42ab-b4e9-d09e64e140ba"
      },
      "source": [
        "history.history['accuracy'][19] * 60000"
      ],
      "execution_count": 33,
      "outputs": [
        {
          "output_type": "execute_result",
          "data": {
            "text/plain": [
              "59996.00172042847"
            ]
          },
          "metadata": {
            "tags": []
          },
          "execution_count": 33
        }
      ]
    },
    {
      "cell_type": "code",
      "metadata": {
        "id": "a8SKsEj8Pzmo",
        "colab": {
          "base_uri": "https://localhost:8080/"
        },
        "outputId": "52367b0a-948f-42a2-9174-102d934cf893"
      },
      "source": [
        "history.history['val_accuracy'][19]"
      ],
      "execution_count": 34,
      "outputs": [
        {
          "output_type": "execute_result",
          "data": {
            "text/plain": [
              "0.9822999835014343"
            ]
          },
          "metadata": {
            "tags": []
          },
          "execution_count": 34
        }
      ]
    },
    {
      "cell_type": "code",
      "metadata": {
        "id": "825da8RTPzmo",
        "colab": {
          "base_uri": "https://localhost:8080/"
        },
        "outputId": "41da926c-4a2c-4146-f87e-cb7bf4273c58"
      },
      "source": [
        "history.history['val_accuracy'][19] * 10000"
      ],
      "execution_count": 35,
      "outputs": [
        {
          "output_type": "execute_result",
          "data": {
            "text/plain": [
              "9822.999835014343"
            ]
          },
          "metadata": {
            "tags": []
          },
          "execution_count": 35
        }
      ]
    },
    {
      "cell_type": "markdown",
      "metadata": {
        "id": "W1Y_nE4LPzmo"
      },
      "source": [
        "### google fit keras \n",
        "* https://keras.io/models/sequential/\n",
        "* batch_size: Integer or None. Number of samples per gradient update. If unspecified, it will default to 32.\n",
        "* epochs: Integer. Number of epochs to train the model. An epoch is an iteration over the entire x and y data provided.\n",
        "* Right now "
      ]
    },
    {
      "cell_type": "code",
      "metadata": {
        "id": "IsV1v0uwPzmo",
        "colab": {
          "base_uri": "https://localhost:8080/"
        },
        "outputId": "291e9bfa-78c9-49e4-bf00-80d78e6ae066"
      },
      "source": [
        "len(train_labels), ( 60000  // 128 + 1)*5 # gradient updates "
      ],
      "execution_count": 36,
      "outputs": [
        {
          "output_type": "execute_result",
          "data": {
            "text/plain": [
              "(60000, 2345)"
            ]
          },
          "metadata": {
            "tags": []
          },
          "execution_count": 36
        }
      ]
    },
    {
      "cell_type": "markdown",
      "metadata": {
        "id": "J52O72fbPzmp"
      },
      "source": [
        "Two quantities are being displayed during training: the \"loss\" of the network over the training data, and the accuracy of the network over \n",
        "the training data.\n",
        "\n",
        "We quickly reach an accuracy of 0.989 (i.e. 98.9%) on the training data. Now let's check that our model performs well on the test set too:"
      ]
    },
    {
      "cell_type": "code",
      "metadata": {
        "id": "mURGFXngPzmp",
        "colab": {
          "base_uri": "https://localhost:8080/"
        },
        "outputId": "5f322129-efa9-48fb-efe1-bfbffd3a5293"
      },
      "source": [
        "test_loss, test_acc = network.evaluate(test_images1, test_labels_categ)"
      ],
      "execution_count": 37,
      "outputs": [
        {
          "output_type": "stream",
          "text": [
            "313/313 [==============================] - 1s 2ms/step - loss: 0.1123 - accuracy: 0.9823\n"
          ],
          "name": "stdout"
        }
      ]
    },
    {
      "cell_type": "code",
      "metadata": {
        "id": "-g_-WIl3Pzmp",
        "colab": {
          "base_uri": "https://localhost:8080/"
        },
        "outputId": "32203fb6-77e8-4111-940f-0da4a9a9271a"
      },
      "source": [
        "print('test_acc:', test_acc)"
      ],
      "execution_count": 38,
      "outputs": [
        {
          "output_type": "stream",
          "text": [
            "test_acc: 0.9822999835014343\n"
          ],
          "name": "stdout"
        }
      ]
    },
    {
      "cell_type": "code",
      "metadata": {
        "id": "fCjjsJPhPzmp",
        "colab": {
          "base_uri": "https://localhost:8080/"
        },
        "outputId": "43f80a51-500d-42b2-e5de-fc0dc69bd8cc"
      },
      "source": [
        "prediction = network.predict_classes(test_images1)\n",
        "prediction"
      ],
      "execution_count": 39,
      "outputs": [
        {
          "output_type": "stream",
          "text": [
            "/usr/local/lib/python3.7/dist-packages/keras/engine/sequential.py:450: UserWarning: `model.predict_classes()` is deprecated and will be removed after 2021-01-01. Please use instead:* `np.argmax(model.predict(x), axis=-1)`,   if your model does multi-class classification   (e.g. if it uses a `softmax` last-layer activation).* `(model.predict(x) > 0.5).astype(\"int32\")`,   if your model does binary classification   (e.g. if it uses a `sigmoid` last-layer activation).\n",
            "  warnings.warn('`model.predict_classes()` is deprecated and '\n"
          ],
          "name": "stderr"
        },
        {
          "output_type": "execute_result",
          "data": {
            "text/plain": [
              "array([7, 2, 1, ..., 4, 5, 6])"
            ]
          },
          "metadata": {
            "tags": []
          },
          "execution_count": 39
        }
      ]
    },
    {
      "cell_type": "code",
      "metadata": {
        "id": "pk16VH9APzmp",
        "colab": {
          "base_uri": "https://localhost:8080/"
        },
        "outputId": "26b674e6-f95e-445d-869a-304b83c3d442"
      },
      "source": [
        "network.predict(test_images1)"
      ],
      "execution_count": 40,
      "outputs": [
        {
          "output_type": "execute_result",
          "data": {
            "text/plain": [
              "array([[3.0285952e-19, 5.1324380e-25, 3.1622176e-19, ..., 1.0000000e+00,\n",
              "        4.2703704e-18, 8.8955750e-16],\n",
              "       [4.6066734e-26, 8.6891322e-19, 1.0000000e+00, ..., 0.0000000e+00,\n",
              "        2.0832951e-24, 0.0000000e+00],\n",
              "       [5.5182430e-18, 9.9999988e-01, 1.1803136e-09, ..., 2.2058805e-10,\n",
              "        9.6455828e-08, 2.6400890e-17],\n",
              "       ...,\n",
              "       [3.3748916e-35, 2.3243704e-29, 1.9780477e-29, ..., 3.1588333e-13,\n",
              "        4.6258362e-17, 3.3639703e-14],\n",
              "       [6.5090768e-26, 4.1024012e-28, 2.9417529e-31, ..., 1.0954516e-24,\n",
              "        4.5351971e-13, 4.4449323e-29],\n",
              "       [4.7164443e-24, 0.0000000e+00, 6.2335511e-27, ..., 0.0000000e+00,\n",
              "        1.1056657e-32, 5.8526318e-30]], dtype=float32)"
            ]
          },
          "metadata": {
            "tags": []
          },
          "execution_count": 40
        }
      ]
    },
    {
      "cell_type": "code",
      "metadata": {
        "id": "Wquj8phcPzmq",
        "colab": {
          "base_uri": "https://localhost:8080/"
        },
        "outputId": "d772f886-40bd-49c3-88ed-ed22b4dd9812"
      },
      "source": [
        "network.predict(test_images1)[0,:]"
      ],
      "execution_count": 41,
      "outputs": [
        {
          "output_type": "execute_result",
          "data": {
            "text/plain": [
              "array([3.0285952e-19, 5.1324380e-25, 3.1622176e-19, 5.3772043e-12,\n",
              "       2.3156099e-28, 3.0746359e-18, 8.4557652e-32, 1.0000000e+00,\n",
              "       4.2703704e-18, 8.8955750e-16], dtype=float32)"
            ]
          },
          "metadata": {
            "tags": []
          },
          "execution_count": 41
        }
      ]
    },
    {
      "cell_type": "code",
      "metadata": {
        "id": "oGcIGblnPzmq",
        "colab": {
          "base_uri": "https://localhost:8080/"
        },
        "outputId": "f3962005-63d6-47ce-e427-2b4fe9bdfb0c"
      },
      "source": [
        "network.predict(test_images1)[9999,:]"
      ],
      "execution_count": 42,
      "outputs": [
        {
          "output_type": "execute_result",
          "data": {
            "text/plain": [
              "array([4.7164443e-24, 0.0000000e+00, 6.2335511e-27, 1.3475683e-30,\n",
              "       1.5813577e-20, 7.0080723e-24, 1.0000000e+00, 0.0000000e+00,\n",
              "       1.1056657e-32, 5.8526318e-30], dtype=float32)"
            ]
          },
          "metadata": {
            "tags": []
          },
          "execution_count": 42
        }
      ]
    },
    {
      "cell_type": "markdown",
      "metadata": {
        "id": "ziw7MWhGPzmq"
      },
      "source": [
        "# confusion matrix"
      ]
    },
    {
      "cell_type": "code",
      "metadata": {
        "id": "B9tJm_n-Pzmq",
        "colab": {
          "base_uri": "https://localhost:8080/"
        },
        "outputId": "d3c67b0f-a97a-42c1-8a21-07fce6656630"
      },
      "source": [
        "test_labels_categ"
      ],
      "execution_count": 43,
      "outputs": [
        {
          "output_type": "execute_result",
          "data": {
            "text/plain": [
              "array([[0., 0., 0., ..., 1., 0., 0.],\n",
              "       [0., 0., 1., ..., 0., 0., 0.],\n",
              "       [0., 1., 0., ..., 0., 0., 0.],\n",
              "       ...,\n",
              "       [0., 0., 0., ..., 0., 0., 0.],\n",
              "       [0., 0., 0., ..., 0., 0., 0.],\n",
              "       [0., 0., 0., ..., 0., 0., 0.]], dtype=float32)"
            ]
          },
          "metadata": {
            "tags": []
          },
          "execution_count": 43
        }
      ]
    },
    {
      "cell_type": "code",
      "metadata": {
        "id": "EM6BlYoTPzmq",
        "colab": {
          "base_uri": "https://localhost:8080/"
        },
        "outputId": "e4929b14-2c94-4f52-d5cc-3e492543c5b2"
      },
      "source": [
        "import numpy as np\n",
        "np.vstack((test_labels[220:240], prediction[220:240]))"
      ],
      "execution_count": 44,
      "outputs": [
        {
          "output_type": "execute_result",
          "data": {
            "text/plain": [
              "array([[7, 2, 2, 7, 1, 2, 8, 4, 1, 7, 3, 3, 8, 8, 7, 9, 2, 2, 4, 1],\n",
              "       [7, 2, 2, 7, 1, 2, 8, 4, 1, 7, 3, 3, 8, 8, 7, 9, 2, 2, 4, 1]])"
            ]
          },
          "metadata": {
            "tags": []
          },
          "execution_count": 44
        }
      ]
    },
    {
      "cell_type": "code",
      "metadata": {
        "id": "xvtdfVCHPzmr",
        "colab": {
          "base_uri": "https://localhost:8080/"
        },
        "outputId": "59bdb14b-ba0b-4cd4-8168-ff1ac9f30625"
      },
      "source": [
        "len(test_labels)"
      ],
      "execution_count": 45,
      "outputs": [
        {
          "output_type": "execute_result",
          "data": {
            "text/plain": [
              "10000"
            ]
          },
          "metadata": {
            "tags": []
          },
          "execution_count": 45
        }
      ]
    },
    {
      "cell_type": "code",
      "metadata": {
        "id": "URW9RlyjPzmr",
        "colab": {
          "base_uri": "https://localhost:8080/",
          "height": 388
        },
        "outputId": "4699d756-18a4-4049-e637-746a92573585"
      },
      "source": [
        "import pandas as pd\n",
        "pd.crosstab(test_labels, prediction,\n",
        "            rownames=['label'], colnames=['predict'])"
      ],
      "execution_count": 46,
      "outputs": [
        {
          "output_type": "execute_result",
          "data": {
            "text/html": [
              "<div>\n",
              "<style scoped>\n",
              "    .dataframe tbody tr th:only-of-type {\n",
              "        vertical-align: middle;\n",
              "    }\n",
              "\n",
              "    .dataframe tbody tr th {\n",
              "        vertical-align: top;\n",
              "    }\n",
              "\n",
              "    .dataframe thead th {\n",
              "        text-align: right;\n",
              "    }\n",
              "</style>\n",
              "<table border=\"1\" class=\"dataframe\">\n",
              "  <thead>\n",
              "    <tr style=\"text-align: right;\">\n",
              "      <th>predict</th>\n",
              "      <th>0</th>\n",
              "      <th>1</th>\n",
              "      <th>2</th>\n",
              "      <th>3</th>\n",
              "      <th>4</th>\n",
              "      <th>5</th>\n",
              "      <th>6</th>\n",
              "      <th>7</th>\n",
              "      <th>8</th>\n",
              "      <th>9</th>\n",
              "    </tr>\n",
              "    <tr>\n",
              "      <th>label</th>\n",
              "      <th></th>\n",
              "      <th></th>\n",
              "      <th></th>\n",
              "      <th></th>\n",
              "      <th></th>\n",
              "      <th></th>\n",
              "      <th></th>\n",
              "      <th></th>\n",
              "      <th></th>\n",
              "      <th></th>\n",
              "    </tr>\n",
              "  </thead>\n",
              "  <tbody>\n",
              "    <tr>\n",
              "      <th>0</th>\n",
              "      <td>974</td>\n",
              "      <td>0</td>\n",
              "      <td>0</td>\n",
              "      <td>1</td>\n",
              "      <td>1</td>\n",
              "      <td>0</td>\n",
              "      <td>1</td>\n",
              "      <td>1</td>\n",
              "      <td>2</td>\n",
              "      <td>0</td>\n",
              "    </tr>\n",
              "    <tr>\n",
              "      <th>1</th>\n",
              "      <td>0</td>\n",
              "      <td>1125</td>\n",
              "      <td>1</td>\n",
              "      <td>2</td>\n",
              "      <td>0</td>\n",
              "      <td>1</td>\n",
              "      <td>2</td>\n",
              "      <td>1</td>\n",
              "      <td>3</td>\n",
              "      <td>0</td>\n",
              "    </tr>\n",
              "    <tr>\n",
              "      <th>2</th>\n",
              "      <td>3</td>\n",
              "      <td>1</td>\n",
              "      <td>1013</td>\n",
              "      <td>0</td>\n",
              "      <td>1</td>\n",
              "      <td>0</td>\n",
              "      <td>2</td>\n",
              "      <td>4</td>\n",
              "      <td>7</td>\n",
              "      <td>1</td>\n",
              "    </tr>\n",
              "    <tr>\n",
              "      <th>3</th>\n",
              "      <td>0</td>\n",
              "      <td>0</td>\n",
              "      <td>4</td>\n",
              "      <td>997</td>\n",
              "      <td>0</td>\n",
              "      <td>3</td>\n",
              "      <td>0</td>\n",
              "      <td>1</td>\n",
              "      <td>3</td>\n",
              "      <td>2</td>\n",
              "    </tr>\n",
              "    <tr>\n",
              "      <th>4</th>\n",
              "      <td>2</td>\n",
              "      <td>0</td>\n",
              "      <td>2</td>\n",
              "      <td>1</td>\n",
              "      <td>964</td>\n",
              "      <td>0</td>\n",
              "      <td>3</td>\n",
              "      <td>2</td>\n",
              "      <td>2</td>\n",
              "      <td>6</td>\n",
              "    </tr>\n",
              "    <tr>\n",
              "      <th>5</th>\n",
              "      <td>4</td>\n",
              "      <td>0</td>\n",
              "      <td>0</td>\n",
              "      <td>8</td>\n",
              "      <td>1</td>\n",
              "      <td>870</td>\n",
              "      <td>3</td>\n",
              "      <td>1</td>\n",
              "      <td>4</td>\n",
              "      <td>1</td>\n",
              "    </tr>\n",
              "    <tr>\n",
              "      <th>6</th>\n",
              "      <td>4</td>\n",
              "      <td>2</td>\n",
              "      <td>2</td>\n",
              "      <td>1</td>\n",
              "      <td>4</td>\n",
              "      <td>2</td>\n",
              "      <td>939</td>\n",
              "      <td>0</td>\n",
              "      <td>4</td>\n",
              "      <td>0</td>\n",
              "    </tr>\n",
              "    <tr>\n",
              "      <th>7</th>\n",
              "      <td>1</td>\n",
              "      <td>1</td>\n",
              "      <td>10</td>\n",
              "      <td>4</td>\n",
              "      <td>1</td>\n",
              "      <td>0</td>\n",
              "      <td>0</td>\n",
              "      <td>1000</td>\n",
              "      <td>5</td>\n",
              "      <td>6</td>\n",
              "    </tr>\n",
              "    <tr>\n",
              "      <th>8</th>\n",
              "      <td>4</td>\n",
              "      <td>0</td>\n",
              "      <td>4</td>\n",
              "      <td>2</td>\n",
              "      <td>4</td>\n",
              "      <td>2</td>\n",
              "      <td>0</td>\n",
              "      <td>2</td>\n",
              "      <td>952</td>\n",
              "      <td>4</td>\n",
              "    </tr>\n",
              "    <tr>\n",
              "      <th>9</th>\n",
              "      <td>1</td>\n",
              "      <td>2</td>\n",
              "      <td>0</td>\n",
              "      <td>4</td>\n",
              "      <td>4</td>\n",
              "      <td>3</td>\n",
              "      <td>0</td>\n",
              "      <td>3</td>\n",
              "      <td>3</td>\n",
              "      <td>989</td>\n",
              "    </tr>\n",
              "  </tbody>\n",
              "</table>\n",
              "</div>"
            ],
            "text/plain": [
              "predict    0     1     2    3    4    5    6     7    8    9\n",
              "label                                                       \n",
              "0        974     0     0    1    1    0    1     1    2    0\n",
              "1          0  1125     1    2    0    1    2     1    3    0\n",
              "2          3     1  1013    0    1    0    2     4    7    1\n",
              "3          0     0     4  997    0    3    0     1    3    2\n",
              "4          2     0     2    1  964    0    3     2    2    6\n",
              "5          4     0     0    8    1  870    3     1    4    1\n",
              "6          4     2     2    1    4    2  939     0    4    0\n",
              "7          1     1    10    4    1    0    0  1000    5    6\n",
              "8          4     0     4    2    4    2    0     2  952    4\n",
              "9          1     2     0    4    4    3    0     3    3  989"
            ]
          },
          "metadata": {
            "tags": []
          },
          "execution_count": 46
        }
      ]
    },
    {
      "cell_type": "code",
      "metadata": {
        "id": "_6XmtpMUPzmr",
        "colab": {
          "base_uri": "https://localhost:8080/",
          "height": 1000
        },
        "outputId": "cd73ce4a-0241-46aa-bf5d-38f094c08da6"
      },
      "source": [
        "import matplotlib.pyplot as plt\n",
        "import numpy as np\n",
        "\n",
        "for i in range(len(test_labels)):\n",
        "    if (test_labels[i] != prediction[i]) & (test_labels[i] == 0):\n",
        "        print('when ', i, ': test_labels is ', test_labels[i], ', but predict ', prediction[i])\n",
        "        plt.imshow(test_images[i,:,:], cmap = plt.cm.gray) \n",
        "        plt.show()"
      ],
      "execution_count": 48,
      "outputs": [
        {
          "output_type": "stream",
          "text": [
            "when  3818 : test_labels is  0 , but predict  4\n"
          ],
          "name": "stdout"
        },
        {
          "output_type": "display_data",
          "data": {
            "image/png": "[encoded data removed]",
            "text/plain": [
              "<Figure size 432x288 with 1 Axes>"
            ]
          },
          "metadata": {
            "tags": [],
            "needs_background": "light"
          }
        },
        {
          "output_type": "stream",
          "text": [
            "when  4065 : test_labels is  0 , but predict  3\n"
          ],
          "name": "stdout"
        },
        {
          "output_type": "display_data",
          "data": {
            "image/png": "[encoded data removed]",
            "text/plain": [
              "<Figure size 432x288 with 1 Axes>"
            ]
          },
          "metadata": {
            "tags": [],
            "needs_background": "light"
          }
        },
        {
          "output_type": "stream",
          "text": [
            "when  4880 : test_labels is  0 , but predict  8\n"
          ],
          "name": "stdout"
        },
        {
          "output_type": "display_data",
          "data": {
            "image/png": "[encoded data removed]",
            "text/plain": [
              "<Figure size 432x288 with 1 Axes>"
            ]
          },
          "metadata": {
            "tags": [],
            "needs_background": "light"
          }
        },
        {
          "output_type": "stream",
          "text": [
            "when  6597 : test_labels is  0 , but predict  7\n"
          ],
          "name": "stdout"
        },
        {
          "output_type": "display_data",
          "data": {
            "image/png": "[encoded data removed]",
            "text/plain": [
              "<Figure size 432x288 with 1 Axes>"
            ]
          },
          "metadata": {
            "tags": [],
            "needs_background": "light"
          }
        },
        {
          "output_type": "stream",
          "text": [
            "when  8325 : test_labels is  0 , but predict  6\n"
          ],
          "name": "stdout"
        },
        {
          "output_type": "display_data",
          "data": {
            "image/png": "[encoded data removed]",
            "text/plain": [
              "<Figure size 432x288 with 1 Axes>"
            ]
          },
          "metadata": {
            "tags": [],
            "needs_background": "light"
          }
        },
        {
          "output_type": "stream",
          "text": [
            "when  9634 : test_labels is  0 , but predict  8\n"
          ],
          "name": "stdout"
        },
        {
          "output_type": "display_data",
          "data": {
            "image/png": "[encoded data removed]",
            "text/plain": [
              "<Figure size 432x288 with 1 Axes>"
            ]
          },
          "metadata": {
            "tags": [],
            "needs_background": "light"
          }
        }
      ]
    },
    {
      "cell_type": "code",
      "metadata": {
        "id": "gtqH8GvRPzms",
        "colab": {
          "base_uri": "https://localhost:8080/"
        },
        "outputId": "a1c59bb0-37b3-4cac-f877-e17382d93553"
      },
      "source": [
        "network.predict(test_images1)[6597,:]"
      ],
      "execution_count": 49,
      "outputs": [
        {
          "output_type": "execute_result",
          "data": {
            "text/plain": [
              "array([1.4592365e-07, 3.9607747e-32, 4.6895332e-14, 1.0035591e-06,\n",
              "       1.0926375e-31, 4.2839912e-17, 6.9107648e-32, 9.9999106e-01,\n",
              "       5.9314324e-20, 7.7545974e-06], dtype=float32)"
            ]
          },
          "metadata": {
            "tags": []
          },
          "execution_count": 49
        }
      ]
    },
    {
      "cell_type": "markdown",
      "metadata": {
        "id": "iUj5WbEHPzms"
      },
      "source": [
        "## 8.2.3 Overfitting (過度配適) and Underfitting (低度擬合)  "
      ]
    },
    {
      "cell_type": "code",
      "metadata": {
        "id": "tsXLnuZUPzms",
        "colab": {
          "base_uri": "https://localhost:8080/"
        },
        "outputId": "f2ec2655-dbec-428f-9dec-b83bd3ce586c"
      },
      "source": [
        "0.9999 - 0.9827 "
      ],
      "execution_count": 50,
      "outputs": [
        {
          "output_type": "execute_result",
          "data": {
            "text/plain": [
              "0.017199999999999993"
            ]
          },
          "metadata": {
            "tags": []
          },
          "execution_count": 50
        }
      ]
    },
    {
      "cell_type": "code",
      "metadata": {
        "id": "RP_KZncvPzms",
        "colab": {
          "base_uri": "https://localhost:8080/"
        },
        "outputId": "21ac9a21-31ae-479c-8ac4-ab34c7c6235e"
      },
      "source": [
        "from keras import models\n",
        "from keras import layers\n",
        "from keras.datasets import mnist\n",
        "from tensorflow.keras.utils import to_categorical\n",
        "\n",
        "(train_images, train_labels), (test_images, test_labels) = mnist.load_data()\n",
        "\n",
        "train_labels_categ = to_categorical(train_labels)\n",
        "test_labels_categ = to_categorical(test_labels)\n",
        "\n",
        "train_images1 = train_images.reshape((60000, 28 * 28))\n",
        "train_images1 = train_images1.astype('float32') / 255\n",
        "\n",
        "test_images1 = test_images.reshape((10000, 28 * 28))\n",
        "test_images1 = test_images1.astype('float32') / 255\n",
        "\n",
        "network = models.Sequential()\n",
        "network.add(layers.Dense(256, activation='relu', input_shape=(28 * 28,))) # first layer \n",
        "network.add(layers.Dense(10, activation='softmax')) # output layer\n",
        " \n",
        "network.compile(optimizer='rmsprop',\n",
        "              loss='categorical_crossentropy',\n",
        "              metrics=['accuracy'])\n",
        "history = network.fit(train_images1, train_labels_categ, epochs= 20, batch_size= 128,\n",
        "                    validation_data=(test_images1, test_labels_categ))"
      ],
      "execution_count": 51,
      "outputs": [
        {
          "output_type": "stream",
          "text": [
            "Epoch 1/20\n",
            "469/469 [==============================] - 2s 4ms/step - loss: 0.4727 - accuracy: 0.8703 - val_loss: 0.1499 - val_accuracy: 0.9565\n",
            "Epoch 2/20\n",
            "469/469 [==============================] - 2s 3ms/step - loss: 0.1392 - accuracy: 0.9589 - val_loss: 0.1038 - val_accuracy: 0.9693\n",
            "Epoch 3/20\n",
            "469/469 [==============================] - 2s 4ms/step - loss: 0.0891 - accuracy: 0.9739 - val_loss: 0.0906 - val_accuracy: 0.9728\n",
            "Epoch 4/20\n",
            "469/469 [==============================] - 2s 3ms/step - loss: 0.0638 - accuracy: 0.9820 - val_loss: 0.0759 - val_accuracy: 0.9771\n",
            "Epoch 5/20\n",
            "469/469 [==============================] - 2s 4ms/step - loss: 0.0490 - accuracy: 0.9858 - val_loss: 0.0822 - val_accuracy: 0.9758\n",
            "Epoch 6/20\n",
            "469/469 [==============================] - 2s 3ms/step - loss: 0.0400 - accuracy: 0.9882 - val_loss: 0.0759 - val_accuracy: 0.9778\n",
            "Epoch 7/20\n",
            "469/469 [==============================] - 2s 3ms/step - loss: 0.0310 - accuracy: 0.9906 - val_loss: 0.0722 - val_accuracy: 0.9792\n",
            "Epoch 8/20\n",
            "469/469 [==============================] - 2s 3ms/step - loss: 0.0262 - accuracy: 0.9923 - val_loss: 0.0675 - val_accuracy: 0.9795\n",
            "Epoch 9/20\n",
            "469/469 [==============================] - 2s 3ms/step - loss: 0.0219 - accuracy: 0.9945 - val_loss: 0.0715 - val_accuracy: 0.9803\n",
            "Epoch 10/20\n",
            "469/469 [==============================] - 2s 3ms/step - loss: 0.0170 - accuracy: 0.9954 - val_loss: 0.0743 - val_accuracy: 0.9800\n",
            "Epoch 11/20\n",
            "469/469 [==============================] - 2s 3ms/step - loss: 0.0128 - accuracy: 0.9964 - val_loss: 0.0760 - val_accuracy: 0.9798\n",
            "Epoch 12/20\n",
            "469/469 [==============================] - 1s 3ms/step - loss: 0.0108 - accuracy: 0.9976 - val_loss: 0.0904 - val_accuracy: 0.9777\n",
            "Epoch 13/20\n",
            "469/469 [==============================] - 2s 3ms/step - loss: 0.0086 - accuracy: 0.9980 - val_loss: 0.0754 - val_accuracy: 0.9808\n",
            "Epoch 14/20\n",
            "469/469 [==============================] - 1s 3ms/step - loss: 0.0070 - accuracy: 0.9984 - val_loss: 0.0741 - val_accuracy: 0.9813\n",
            "Epoch 15/20\n",
            "469/469 [==============================] - 2s 3ms/step - loss: 0.0054 - accuracy: 0.9988 - val_loss: 0.0787 - val_accuracy: 0.9817\n",
            "Epoch 16/20\n",
            "469/469 [==============================] - 2s 3ms/step - loss: 0.0050 - accuracy: 0.9987 - val_loss: 0.0848 - val_accuracy: 0.9820\n",
            "Epoch 17/20\n",
            "469/469 [==============================] - 2s 3ms/step - loss: 0.0038 - accuracy: 0.9990 - val_loss: 0.0833 - val_accuracy: 0.9812\n",
            "Epoch 18/20\n",
            "469/469 [==============================] - 2s 4ms/step - loss: 0.0029 - accuracy: 0.9994 - val_loss: 0.0866 - val_accuracy: 0.9816\n",
            "Epoch 19/20\n",
            "469/469 [==============================] - 2s 4ms/step - loss: 0.0022 - accuracy: 0.9996 - val_loss: 0.0948 - val_accuracy: 0.9798\n",
            "Epoch 20/20\n",
            "469/469 [==============================] - 2s 4ms/step - loss: 0.0020 - accuracy: 0.9997 - val_loss: 0.1058 - val_accuracy: 0.9792\n"
          ],
          "name": "stdout"
        }
      ]
    },
    {
      "cell_type": "code",
      "metadata": {
        "id": "xJ-6m9MXPzmt",
        "colab": {
          "base_uri": "https://localhost:8080/"
        },
        "outputId": "f678a0a0-e28b-451b-98f6-bab4dc68a23e"
      },
      "source": [
        "from keras import models\n",
        "from keras import layers\n",
        "from keras.datasets import mnist\n",
        "from tensorflow.keras.utils import to_categorical\n",
        "\n",
        "(train_images, train_labels), (test_images, test_labels) = mnist.load_data()\n",
        "\n",
        "train_labels_categ = to_categorical(train_labels)\n",
        "test_labels_categ = to_categorical(test_labels)\n",
        "\n",
        "train_images1 = train_images.reshape((60000, 28 * 28))\n",
        "train_images1 = train_images1.astype('float32') / 255\n",
        "\n",
        "test_images1 = test_images.reshape((10000, 28 * 28))\n",
        "test_images1 = test_images1.astype('float32') / 255\n",
        "\n",
        "network = models.Sequential()\n",
        "network.add(layers.Dense(128, activation='relu', input_shape=(28 * 28,))) # first layer \n",
        "network.add(layers.Dense(10, activation='softmax')) # output layer\n",
        " \n",
        "network.compile(optimizer='rmsprop',\n",
        "              loss='categorical_crossentropy',\n",
        "              metrics=['accuracy'])\n",
        "history = network.fit(train_images1, train_labels_categ, epochs= 20, batch_size= 128,\n",
        "                    validation_data=(test_images1, test_labels_categ))"
      ],
      "execution_count": 52,
      "outputs": [
        {
          "output_type": "stream",
          "text": [
            "Epoch 1/20\n",
            "469/469 [==============================] - 2s 4ms/step - loss: 0.5408 - accuracy: 0.8556 - val_loss: 0.1929 - val_accuracy: 0.9466\n",
            "Epoch 2/20\n",
            "469/469 [==============================] - 2s 3ms/step - loss: 0.1735 - accuracy: 0.9496 - val_loss: 0.1315 - val_accuracy: 0.9599\n",
            "Epoch 3/20\n",
            "469/469 [==============================] - 2s 3ms/step - loss: 0.1191 - accuracy: 0.9662 - val_loss: 0.1063 - val_accuracy: 0.9685\n",
            "Epoch 4/20\n",
            "469/469 [==============================] - 2s 4ms/step - loss: 0.0915 - accuracy: 0.9732 - val_loss: 0.0934 - val_accuracy: 0.9729\n",
            "Epoch 5/20\n",
            "469/469 [==============================] - 2s 3ms/step - loss: 0.0709 - accuracy: 0.9779 - val_loss: 0.0838 - val_accuracy: 0.9754\n",
            "Epoch 6/20\n",
            "469/469 [==============================] - 1s 3ms/step - loss: 0.0617 - accuracy: 0.9815 - val_loss: 0.0828 - val_accuracy: 0.9754\n",
            "Epoch 7/20\n",
            "469/469 [==============================] - 1s 3ms/step - loss: 0.0523 - accuracy: 0.9850 - val_loss: 0.0775 - val_accuracy: 0.9780\n",
            "Epoch 8/20\n",
            "469/469 [==============================] - 2s 3ms/step - loss: 0.0430 - accuracy: 0.9873 - val_loss: 0.0759 - val_accuracy: 0.9775\n",
            "Epoch 9/20\n",
            "469/469 [==============================] - 1s 3ms/step - loss: 0.0365 - accuracy: 0.9901 - val_loss: 0.0763 - val_accuracy: 0.9769\n",
            "Epoch 10/20\n",
            "469/469 [==============================] - 2s 3ms/step - loss: 0.0318 - accuracy: 0.9914 - val_loss: 0.0742 - val_accuracy: 0.9794\n",
            "Epoch 11/20\n",
            "469/469 [==============================] - 2s 3ms/step - loss: 0.0278 - accuracy: 0.9922 - val_loss: 0.0719 - val_accuracy: 0.9800\n",
            "Epoch 12/20\n",
            "469/469 [==============================] - 1s 3ms/step - loss: 0.0234 - accuracy: 0.9939 - val_loss: 0.0763 - val_accuracy: 0.9792\n",
            "Epoch 13/20\n",
            "469/469 [==============================] - 2s 3ms/step - loss: 0.0203 - accuracy: 0.9946 - val_loss: 0.0804 - val_accuracy: 0.9781\n",
            "Epoch 14/20\n",
            "469/469 [==============================] - 1s 3ms/step - loss: 0.0188 - accuracy: 0.9952 - val_loss: 0.0716 - val_accuracy: 0.9799\n",
            "Epoch 15/20\n",
            "469/469 [==============================] - 2s 3ms/step - loss: 0.0153 - accuracy: 0.9963 - val_loss: 0.0754 - val_accuracy: 0.9797\n",
            "Epoch 16/20\n",
            "469/469 [==============================] - 1s 3ms/step - loss: 0.0135 - accuracy: 0.9968 - val_loss: 0.0841 - val_accuracy: 0.9770\n",
            "Epoch 17/20\n",
            "469/469 [==============================] - 2s 3ms/step - loss: 0.0118 - accuracy: 0.9969 - val_loss: 0.0762 - val_accuracy: 0.9803\n",
            "Epoch 18/20\n",
            "469/469 [==============================] - 1s 3ms/step - loss: 0.0089 - accuracy: 0.9980 - val_loss: 0.0787 - val_accuracy: 0.9802\n",
            "Epoch 19/20\n",
            "469/469 [==============================] - 2s 3ms/step - loss: 0.0081 - accuracy: 0.9980 - val_loss: 0.0792 - val_accuracy: 0.9814\n",
            "Epoch 20/20\n",
            "469/469 [==============================] - 1s 3ms/step - loss: 0.0072 - accuracy: 0.9983 - val_loss: 0.0865 - val_accuracy: 0.9783\n"
          ],
          "name": "stdout"
        }
      ]
    },
    {
      "cell_type": "code",
      "metadata": {
        "id": "63bXsseOPzmt",
        "colab": {
          "base_uri": "https://localhost:8080/"
        },
        "outputId": "9fd2377d-2d4f-4360-86e9-419c6f6c0a4a"
      },
      "source": [
        "from keras import models\n",
        "from keras import layers\n",
        "from keras.datasets import mnist\n",
        "from tensorflow.keras.utils import to_categorical\n",
        "\n",
        "(train_images, train_labels), (test_images, test_labels) = mnist.load_data()\n",
        "\n",
        "train_labels_categ = to_categorical(train_labels)\n",
        "test_labels_categ = to_categorical(test_labels)\n",
        "\n",
        "train_images1 = train_images.reshape((60000, 28 * 28))\n",
        "train_images1 = train_images1.astype('float32') / 255\n",
        "\n",
        "test_images1 = test_images.reshape((10000, 28 * 28))\n",
        "test_images1 = test_images1.astype('float32') / 255\n",
        "\n",
        "network = models.Sequential()\n",
        "network.add(layers.Dense(64, activation='relu', input_shape=(28 * 28,))) # first layer \n",
        "network.add(layers.Dense(10, activation='softmax')) # output layer\n",
        " \n",
        "network.compile(optimizer='rmsprop',\n",
        "              loss='categorical_crossentropy',\n",
        "              metrics=['accuracy'])\n",
        "history = network.fit(train_images1, train_labels_categ, epochs= 20, batch_size= 128,\n",
        "                    validation_data=(test_images1, test_labels_categ))"
      ],
      "execution_count": 53,
      "outputs": [
        {
          "output_type": "stream",
          "text": [
            "Epoch 1/20\n",
            "469/469 [==============================] - 2s 4ms/step - loss: 0.6313 - accuracy: 0.8334 - val_loss: 0.2342 - val_accuracy: 0.9312\n",
            "Epoch 2/20\n",
            "469/469 [==============================] - 1s 3ms/step - loss: 0.2145 - accuracy: 0.9392 - val_loss: 0.1779 - val_accuracy: 0.9470\n",
            "Epoch 3/20\n",
            "469/469 [==============================] - 2s 3ms/step - loss: 0.1611 - accuracy: 0.9546 - val_loss: 0.1369 - val_accuracy: 0.9583\n",
            "Epoch 4/20\n",
            "469/469 [==============================] - 1s 3ms/step - loss: 0.1291 - accuracy: 0.9639 - val_loss: 0.1222 - val_accuracy: 0.9636\n",
            "Epoch 5/20\n",
            "469/469 [==============================] - 2s 3ms/step - loss: 0.1060 - accuracy: 0.9690 - val_loss: 0.1089 - val_accuracy: 0.9675\n",
            "Epoch 6/20\n",
            "469/469 [==============================] - 2s 3ms/step - loss: 0.0929 - accuracy: 0.9741 - val_loss: 0.0981 - val_accuracy: 0.9710\n",
            "Epoch 7/20\n",
            "469/469 [==============================] - 2s 3ms/step - loss: 0.0813 - accuracy: 0.9763 - val_loss: 0.0930 - val_accuracy: 0.9726\n",
            "Epoch 8/20\n",
            "469/469 [==============================] - 2s 3ms/step - loss: 0.0711 - accuracy: 0.9797 - val_loss: 0.0933 - val_accuracy: 0.9715\n",
            "Epoch 9/20\n",
            "469/469 [==============================] - 2s 4ms/step - loss: 0.0634 - accuracy: 0.9816 - val_loss: 0.0862 - val_accuracy: 0.9749\n",
            "Epoch 10/20\n",
            "469/469 [==============================] - 2s 3ms/step - loss: 0.0588 - accuracy: 0.9831 - val_loss: 0.0909 - val_accuracy: 0.9740\n",
            "Epoch 11/20\n",
            "469/469 [==============================] - 2s 3ms/step - loss: 0.0524 - accuracy: 0.9843 - val_loss: 0.0897 - val_accuracy: 0.9738\n",
            "Epoch 12/20\n",
            "469/469 [==============================] - 2s 3ms/step - loss: 0.0495 - accuracy: 0.9862 - val_loss: 0.0910 - val_accuracy: 0.9728\n",
            "Epoch 13/20\n",
            "469/469 [==============================] - 2s 3ms/step - loss: 0.0452 - accuracy: 0.9872 - val_loss: 0.0833 - val_accuracy: 0.9762\n",
            "Epoch 14/20\n",
            "469/469 [==============================] - 2s 4ms/step - loss: 0.0402 - accuracy: 0.9893 - val_loss: 0.0899 - val_accuracy: 0.9728\n",
            "Epoch 15/20\n",
            "469/469 [==============================] - 2s 3ms/step - loss: 0.0384 - accuracy: 0.9894 - val_loss: 0.0872 - val_accuracy: 0.9750\n",
            "Epoch 16/20\n",
            "469/469 [==============================] - 2s 3ms/step - loss: 0.0337 - accuracy: 0.9907 - val_loss: 0.0846 - val_accuracy: 0.9754\n",
            "Epoch 17/20\n",
            "469/469 [==============================] - 1s 3ms/step - loss: 0.0300 - accuracy: 0.9919 - val_loss: 0.0845 - val_accuracy: 0.9769\n",
            "Epoch 18/20\n",
            "469/469 [==============================] - 2s 3ms/step - loss: 0.0288 - accuracy: 0.9928 - val_loss: 0.0905 - val_accuracy: 0.9748\n",
            "Epoch 19/20\n",
            "469/469 [==============================] - 2s 3ms/step - loss: 0.0256 - accuracy: 0.9933 - val_loss: 0.0915 - val_accuracy: 0.9744\n",
            "Epoch 20/20\n",
            "469/469 [==============================] - 1s 3ms/step - loss: 0.0251 - accuracy: 0.9936 - val_loss: 0.0881 - val_accuracy: 0.9750\n"
          ],
          "name": "stdout"
        }
      ]
    },
    {
      "cell_type": "code",
      "metadata": {
        "id": "lCmloO68Pzmt",
        "colab": {
          "base_uri": "https://localhost:8080/"
        },
        "outputId": "ebd5735d-271a-4f58-b0bc-bbead975e383"
      },
      "source": [
        "from keras import models\n",
        "from keras import layers\n",
        "from keras.datasets import mnist\n",
        "from tensorflow.keras.utils import to_categorical\n",
        "\n",
        "(train_images, train_labels), (test_images, test_labels) = mnist.load_data()\n",
        "\n",
        "train_labels_categ = to_categorical(train_labels)\n",
        "test_labels_categ = to_categorical(test_labels)\n",
        "\n",
        "train_images1 = train_images.reshape((60000, 28 * 28))\n",
        "train_images1 = train_images1.astype('float32') / 255\n",
        "\n",
        "test_images1 = test_images.reshape((10000, 28 * 28))\n",
        "test_images1 = test_images1.astype('float32') / 255\n",
        "\n",
        "network = models.Sequential()\n",
        "network.add(layers.Dense(16, activation='relu', input_shape=(28 * 28,))) # first layer \n",
        "network.add(layers.Dense(10, activation='softmax')) # output layer\n",
        " \n",
        "network.compile(optimizer='rmsprop',\n",
        "              loss='categorical_crossentropy',\n",
        "              metrics=['accuracy'])\n",
        "history = network.fit(train_images1, train_labels_categ, epochs= 20, batch_size= 128,\n",
        "                    validation_data=(test_images1, test_labels_categ))"
      ],
      "execution_count": 54,
      "outputs": [
        {
          "output_type": "stream",
          "text": [
            "Epoch 1/20\n",
            "469/469 [==============================] - 2s 4ms/step - loss: 0.9004 - accuracy: 0.7642 - val_loss: 0.2990 - val_accuracy: 0.9163\n",
            "Epoch 2/20\n",
            "469/469 [==============================] - 1s 3ms/step - loss: 0.2947 - accuracy: 0.9164 - val_loss: 0.2517 - val_accuracy: 0.9249\n",
            "Epoch 3/20\n",
            "469/469 [==============================] - 1s 3ms/step - loss: 0.2486 - accuracy: 0.9288 - val_loss: 0.2330 - val_accuracy: 0.9329\n",
            "Epoch 4/20\n",
            "469/469 [==============================] - 1s 3ms/step - loss: 0.2263 - accuracy: 0.9347 - val_loss: 0.2226 - val_accuracy: 0.9348\n",
            "Epoch 5/20\n",
            "469/469 [==============================] - 1s 3ms/step - loss: 0.2190 - accuracy: 0.9382 - val_loss: 0.2120 - val_accuracy: 0.9387\n",
            "Epoch 6/20\n",
            "469/469 [==============================] - 1s 3ms/step - loss: 0.2033 - accuracy: 0.9414 - val_loss: 0.2070 - val_accuracy: 0.9407\n",
            "Epoch 7/20\n",
            "469/469 [==============================] - 1s 3ms/step - loss: 0.1999 - accuracy: 0.9432 - val_loss: 0.2046 - val_accuracy: 0.9407\n",
            "Epoch 8/20\n",
            "469/469 [==============================] - 1s 3ms/step - loss: 0.1881 - accuracy: 0.9460 - val_loss: 0.2083 - val_accuracy: 0.9395\n",
            "Epoch 9/20\n",
            "469/469 [==============================] - 1s 3ms/step - loss: 0.1783 - accuracy: 0.9480 - val_loss: 0.1972 - val_accuracy: 0.9440\n",
            "Epoch 10/20\n",
            "469/469 [==============================] - 1s 3ms/step - loss: 0.1774 - accuracy: 0.9507 - val_loss: 0.1958 - val_accuracy: 0.9438\n",
            "Epoch 11/20\n",
            "469/469 [==============================] - 1s 3ms/step - loss: 0.1748 - accuracy: 0.9499 - val_loss: 0.1868 - val_accuracy: 0.9472\n",
            "Epoch 12/20\n",
            "469/469 [==============================] - 1s 3ms/step - loss: 0.1711 - accuracy: 0.9528 - val_loss: 0.1867 - val_accuracy: 0.9460\n",
            "Epoch 13/20\n",
            "469/469 [==============================] - 1s 3ms/step - loss: 0.1653 - accuracy: 0.9531 - val_loss: 0.1831 - val_accuracy: 0.9484\n",
            "Epoch 14/20\n",
            "469/469 [==============================] - 1s 3ms/step - loss: 0.1680 - accuracy: 0.9533 - val_loss: 0.1804 - val_accuracy: 0.9480\n",
            "Epoch 15/20\n",
            "469/469 [==============================] - 1s 3ms/step - loss: 0.1629 - accuracy: 0.9537 - val_loss: 0.1784 - val_accuracy: 0.9509\n",
            "Epoch 16/20\n",
            "469/469 [==============================] - 1s 3ms/step - loss: 0.1557 - accuracy: 0.9565 - val_loss: 0.1817 - val_accuracy: 0.9489\n",
            "Epoch 17/20\n",
            "469/469 [==============================] - 1s 3ms/step - loss: 0.1526 - accuracy: 0.9580 - val_loss: 0.1810 - val_accuracy: 0.9486\n",
            "Epoch 18/20\n",
            "469/469 [==============================] - 1s 3ms/step - loss: 0.1537 - accuracy: 0.9562 - val_loss: 0.1769 - val_accuracy: 0.9488\n",
            "Epoch 19/20\n",
            "469/469 [==============================] - 1s 3ms/step - loss: 0.1519 - accuracy: 0.9562 - val_loss: 0.1829 - val_accuracy: 0.9485\n",
            "Epoch 20/20\n",
            "469/469 [==============================] - 1s 3ms/step - loss: 0.1495 - accuracy: 0.9577 - val_loss: 0.1778 - val_accuracy: 0.9507\n"
          ],
          "name": "stdout"
        }
      ]
    },
    {
      "cell_type": "code",
      "metadata": {
        "id": "0gFMDKvxPzmt",
        "colab": {
          "base_uri": "https://localhost:8080/"
        },
        "outputId": "da5b1dbc-dd6e-45f8-f0fc-faea91fdf558"
      },
      "source": [
        "from keras import models\n",
        "from keras import layers\n",
        "from keras.datasets import mnist\n",
        "from tensorflow.keras.utils import to_categorical\n",
        "\n",
        "(train_images, train_labels), (test_images, test_labels) = mnist.load_data()\n",
        "\n",
        "train_labels_categ = to_categorical(train_labels)\n",
        "test_labels_categ = to_categorical(test_labels)\n",
        "\n",
        "train_images1 = train_images.reshape((60000, 28 * 28))\n",
        "train_images1 = train_images1.astype('float32') / 255\n",
        "\n",
        "test_images1 = test_images.reshape((10000, 28 * 28))\n",
        "test_images1 = test_images1.astype('float32') / 255\n",
        "\n",
        "network = models.Sequential()\n",
        "network.add(layers.Dense(4, activation='relu', input_shape=(28 * 28,))) # first layer \n",
        "network.add(layers.Dense(10, activation='softmax')) # output layer\n",
        " \n",
        "network.compile(optimizer='rmsprop',\n",
        "              loss='categorical_crossentropy',\n",
        "              metrics=['accuracy'])\n",
        "history = network.fit(train_images1, train_labels_categ, epochs= 20, batch_size= 128,\n",
        "                    validation_data=(test_images1, test_labels_categ))"
      ],
      "execution_count": 55,
      "outputs": [
        {
          "output_type": "stream",
          "text": [
            "Epoch 1/20\n",
            "469/469 [==============================] - 2s 3ms/step - loss: 1.8036 - accuracy: 0.3898 - val_loss: 1.1923 - val_accuracy: 0.6395\n",
            "Epoch 2/20\n",
            "469/469 [==============================] - 2s 3ms/step - loss: 1.1088 - accuracy: 0.6695 - val_loss: 0.8799 - val_accuracy: 0.7492\n",
            "Epoch 3/20\n",
            "469/469 [==============================] - 2s 3ms/step - loss: 0.8161 - accuracy: 0.7807 - val_loss: 0.6675 - val_accuracy: 0.8159\n",
            "Epoch 4/20\n",
            "469/469 [==============================] - 1s 3ms/step - loss: 0.6501 - accuracy: 0.8143 - val_loss: 0.5965 - val_accuracy: 0.8280\n",
            "Epoch 5/20\n",
            "469/469 [==============================] - 1s 3ms/step - loss: 0.5924 - accuracy: 0.8262 - val_loss: 0.5656 - val_accuracy: 0.8361\n",
            "Epoch 6/20\n",
            "469/469 [==============================] - 2s 3ms/step - loss: 0.5633 - accuracy: 0.8380 - val_loss: 0.5440 - val_accuracy: 0.8426\n",
            "Epoch 7/20\n",
            "469/469 [==============================] - 2s 3ms/step - loss: 0.5497 - accuracy: 0.8397 - val_loss: 0.5326 - val_accuracy: 0.8477\n",
            "Epoch 8/20\n",
            "469/469 [==============================] - 1s 3ms/step - loss: 0.5361 - accuracy: 0.8458 - val_loss: 0.5205 - val_accuracy: 0.8505\n",
            "Epoch 9/20\n",
            "469/469 [==============================] - 2s 3ms/step - loss: 0.5165 - accuracy: 0.8495 - val_loss: 0.5153 - val_accuracy: 0.8486\n",
            "Epoch 10/20\n",
            "469/469 [==============================] - 2s 3ms/step - loss: 0.5155 - accuracy: 0.8510 - val_loss: 0.5090 - val_accuracy: 0.8544\n",
            "Epoch 11/20\n",
            "469/469 [==============================] - 2s 3ms/step - loss: 0.5095 - accuracy: 0.8540 - val_loss: 0.5057 - val_accuracy: 0.8544\n",
            "Epoch 12/20\n",
            "469/469 [==============================] - 2s 3ms/step - loss: 0.5042 - accuracy: 0.8517 - val_loss: 0.5021 - val_accuracy: 0.8556\n",
            "Epoch 13/20\n",
            "469/469 [==============================] - 1s 3ms/step - loss: 0.4930 - accuracy: 0.8546 - val_loss: 0.5032 - val_accuracy: 0.8547\n",
            "Epoch 14/20\n",
            "469/469 [==============================] - 1s 3ms/step - loss: 0.4937 - accuracy: 0.8565 - val_loss: 0.4974 - val_accuracy: 0.8546\n",
            "Epoch 15/20\n",
            "469/469 [==============================] - 2s 3ms/step - loss: 0.4843 - accuracy: 0.8577 - val_loss: 0.4938 - val_accuracy: 0.8582\n",
            "Epoch 16/20\n",
            "469/469 [==============================] - 1s 3ms/step - loss: 0.4837 - accuracy: 0.8591 - val_loss: 0.4949 - val_accuracy: 0.8567\n",
            "Epoch 17/20\n",
            "469/469 [==============================] - 2s 3ms/step - loss: 0.4854 - accuracy: 0.8589 - val_loss: 0.4903 - val_accuracy: 0.8582\n",
            "Epoch 18/20\n",
            "469/469 [==============================] - 1s 3ms/step - loss: 0.4784 - accuracy: 0.8607 - val_loss: 0.4903 - val_accuracy: 0.8589\n",
            "Epoch 19/20\n",
            "469/469 [==============================] - 1s 3ms/step - loss: 0.4821 - accuracy: 0.8595 - val_loss: 0.4878 - val_accuracy: 0.8583\n",
            "Epoch 20/20\n",
            "469/469 [==============================] - 1s 3ms/step - loss: 0.4825 - accuracy: 0.8619 - val_loss: 0.4891 - val_accuracy: 0.8605\n"
          ],
          "name": "stdout"
        }
      ]
    },
    {
      "cell_type": "markdown",
      "metadata": {
        "id": "sQOea5ijPzmu"
      },
      "source": [
        "## Adding L1 regularization\n",
        "\n",
        "* https://keras.io/regularizers/"
      ]
    },
    {
      "cell_type": "code",
      "metadata": {
        "id": "LiWLmYaDPzmu",
        "colab": {
          "base_uri": "https://localhost:8080/"
        },
        "outputId": "5c6c4bc6-927c-4f77-90e5-567806460974"
      },
      "source": [
        "from keras import models\n",
        "from keras import layers\n",
        "from keras.datasets import mnist\n",
        "from tensorflow.keras.utils import to_categorical\n",
        "from keras import regularizers\n",
        "\n",
        "(train_images, train_labels), (test_images, test_labels) = mnist.load_data()\n",
        "\n",
        "train_labels_categ = to_categorical(train_labels)\n",
        "test_labels_categ = to_categorical(test_labels)\n",
        "\n",
        "train_images1 = train_images.reshape((60000, 28 * 28))\n",
        "train_images1 = train_images1.astype('float32') / 255\n",
        "\n",
        "test_images1 = test_images.reshape((10000, 28 * 28))\n",
        "test_images1 = test_images1.astype('float32') / 255\n",
        "\n",
        "network = models.Sequential()\n",
        "network.add(layers.Dense(128, kernel_regularizer = regularizers.l1(0.001), activation='relu', input_shape=(28 * 28,))) # first layer \n",
        "network.add(layers.Dense(10, activation='softmax')) # output layer\n",
        "    \n",
        "network.compile(optimizer='rmsprop',\n",
        "              loss='categorical_crossentropy',\n",
        "              metrics=['accuracy'])\n",
        "history = network.fit(train_images1, train_labels_categ, epochs= 20, batch_size= 128,\n",
        "                    validation_data=(test_images1, test_labels_categ))"
      ],
      "execution_count": 56,
      "outputs": [
        {
          "output_type": "stream",
          "text": [
            "Epoch 1/20\n",
            "469/469 [==============================] - 3s 4ms/step - loss: 2.0429 - accuracy: 0.8324 - val_loss: 0.7332 - val_accuracy: 0.8993\n",
            "Epoch 2/20\n",
            "469/469 [==============================] - 2s 3ms/step - loss: 0.7081 - accuracy: 0.8974 - val_loss: 0.7473 - val_accuracy: 0.8748\n",
            "Epoch 3/20\n",
            "469/469 [==============================] - 1s 3ms/step - loss: 0.6117 - accuracy: 0.9128 - val_loss: 0.5382 - val_accuracy: 0.9273\n",
            "Epoch 4/20\n",
            "469/469 [==============================] - 2s 3ms/step - loss: 0.5521 - accuracy: 0.9229 - val_loss: 0.5144 - val_accuracy: 0.9315\n",
            "Epoch 5/20\n",
            "469/469 [==============================] - 2s 3ms/step - loss: 0.5107 - accuracy: 0.9320 - val_loss: 0.4952 - val_accuracy: 0.9344\n",
            "Epoch 6/20\n",
            "469/469 [==============================] - 2s 3ms/step - loss: 0.4805 - accuracy: 0.9363 - val_loss: 0.5094 - val_accuracy: 0.9238\n",
            "Epoch 7/20\n",
            "469/469 [==============================] - 1s 3ms/step - loss: 0.4583 - accuracy: 0.9404 - val_loss: 0.4461 - val_accuracy: 0.9402\n",
            "Epoch 8/20\n",
            "469/469 [==============================] - 1s 3ms/step - loss: 0.4376 - accuracy: 0.9428 - val_loss: 0.4088 - val_accuracy: 0.9518\n",
            "Epoch 9/20\n",
            "469/469 [==============================] - 2s 3ms/step - loss: 0.4223 - accuracy: 0.9467 - val_loss: 0.4279 - val_accuracy: 0.9445\n",
            "Epoch 10/20\n",
            "469/469 [==============================] - 2s 3ms/step - loss: 0.4096 - accuracy: 0.9478 - val_loss: 0.3976 - val_accuracy: 0.9527\n",
            "Epoch 11/20\n",
            "469/469 [==============================] - 1s 3ms/step - loss: 0.4000 - accuracy: 0.9496 - val_loss: 0.3809 - val_accuracy: 0.9535\n",
            "Epoch 12/20\n",
            "469/469 [==============================] - 2s 3ms/step - loss: 0.3902 - accuracy: 0.9503 - val_loss: 0.3752 - val_accuracy: 0.9550\n",
            "Epoch 13/20\n",
            "469/469 [==============================] - 2s 3ms/step - loss: 0.3828 - accuracy: 0.9512 - val_loss: 0.3983 - val_accuracy: 0.9425\n",
            "Epoch 14/20\n",
            "469/469 [==============================] - 1s 3ms/step - loss: 0.3789 - accuracy: 0.9525 - val_loss: 0.3562 - val_accuracy: 0.9579\n",
            "Epoch 15/20\n",
            "469/469 [==============================] - 1s 3ms/step - loss: 0.3696 - accuracy: 0.9532 - val_loss: 0.3587 - val_accuracy: 0.9553\n",
            "Epoch 16/20\n",
            "469/469 [==============================] - 1s 3ms/step - loss: 0.3654 - accuracy: 0.9532 - val_loss: 0.3662 - val_accuracy: 0.9512\n",
            "Epoch 17/20\n",
            "469/469 [==============================] - 2s 3ms/step - loss: 0.3601 - accuracy: 0.9553 - val_loss: 0.4031 - val_accuracy: 0.9368\n",
            "Epoch 18/20\n",
            "469/469 [==============================] - 1s 3ms/step - loss: 0.3558 - accuracy: 0.9550 - val_loss: 0.3733 - val_accuracy: 0.9478\n",
            "Epoch 19/20\n",
            "469/469 [==============================] - 1s 3ms/step - loss: 0.3497 - accuracy: 0.9564 - val_loss: 0.3713 - val_accuracy: 0.9512\n",
            "Epoch 20/20\n",
            "469/469 [==============================] - 1s 3ms/step - loss: 0.3489 - accuracy: 0.9565 - val_loss: 0.3337 - val_accuracy: 0.9585\n"
          ],
          "name": "stdout"
        }
      ]
    },
    {
      "cell_type": "markdown",
      "metadata": {
        "id": "nk0a9oM7Pzmv"
      },
      "source": [
        "## Adding dropout "
      ]
    },
    {
      "cell_type": "code",
      "metadata": {
        "id": "N-KK729XPzmv",
        "colab": {
          "base_uri": "https://localhost:8080/"
        },
        "outputId": "c147eb17-b9f7-478c-9fd8-63f1dc221b8d"
      },
      "source": [
        "from keras import models\n",
        "from keras import layers\n",
        "from keras.datasets import mnist\n",
        "from tensorflow.keras.utils import to_categorical\n",
        "from keras import regularizers\n",
        "\n",
        "(train_images, train_labels), (test_images, test_labels) = mnist.load_data()\n",
        "\n",
        "train_labels_categ = to_categorical(train_labels)\n",
        "test_labels_categ = to_categorical(test_labels)\n",
        "\n",
        "train_images1 = train_images.reshape((60000, 28 * 28))\n",
        "train_images1 = train_images1.astype('float32') / 255\n",
        "\n",
        "test_images1 = test_images.reshape((10000, 28 * 28))\n",
        "test_images1 = test_images1.astype('float32') / 255\n",
        "\n",
        "network = models.Sequential()\n",
        "network.add(layers.Dense(512, kernel_regularizer = regularizers.l1(0.001), activation='relu', input_shape=(28 * 28,))) # first layer \n",
        "network.add(layers.Dense(10, activation='softmax')) # output layer\n",
        "    \n",
        "network.compile(optimizer='rmsprop',\n",
        "              loss='categorical_crossentropy',\n",
        "              metrics=['accuracy'])\n",
        "history = network.fit(train_images1, train_labels_categ, epochs= 20, batch_size= 128,\n",
        "                    validation_data=(test_images1, test_labels_categ))"
      ],
      "execution_count": 57,
      "outputs": [
        {
          "output_type": "stream",
          "text": [
            "Epoch 1/20\n",
            "469/469 [==============================] - 2s 4ms/step - loss: 3.8930 - accuracy: 0.8121 - val_loss: 0.9406 - val_accuracy: 0.8949\n",
            "Epoch 2/20\n",
            "469/469 [==============================] - 2s 4ms/step - loss: 0.9520 - accuracy: 0.8820 - val_loss: 0.8155 - val_accuracy: 0.9048\n",
            "Epoch 3/20\n",
            "469/469 [==============================] - 2s 4ms/step - loss: 0.8132 - accuracy: 0.9052 - val_loss: 0.7558 - val_accuracy: 0.9168\n",
            "Epoch 4/20\n",
            "469/469 [==============================] - 2s 4ms/step - loss: 0.7369 - accuracy: 0.9190 - val_loss: 0.7001 - val_accuracy: 0.9226\n",
            "Epoch 5/20\n",
            "469/469 [==============================] - 2s 3ms/step - loss: 0.6845 - accuracy: 0.9268 - val_loss: 0.6255 - val_accuracy: 0.9430\n",
            "Epoch 6/20\n",
            "469/469 [==============================] - 2s 4ms/step - loss: 0.6428 - accuracy: 0.9362 - val_loss: 0.6394 - val_accuracy: 0.9331\n",
            "Epoch 7/20\n",
            "469/469 [==============================] - 2s 3ms/step - loss: 0.6235 - accuracy: 0.9405 - val_loss: 0.5872 - val_accuracy: 0.9460\n",
            "Epoch 8/20\n",
            "469/469 [==============================] - 2s 3ms/step - loss: 0.5955 - accuracy: 0.9440 - val_loss: 0.5809 - val_accuracy: 0.9447\n",
            "Epoch 9/20\n",
            "469/469 [==============================] - 2s 4ms/step - loss: 0.5767 - accuracy: 0.9468 - val_loss: 0.5828 - val_accuracy: 0.9438\n",
            "Epoch 10/20\n",
            "469/469 [==============================] - 2s 3ms/step - loss: 0.5654 - accuracy: 0.9489 - val_loss: 0.5689 - val_accuracy: 0.9471\n",
            "Epoch 11/20\n",
            "469/469 [==============================] - 2s 4ms/step - loss: 0.5608 - accuracy: 0.9484 - val_loss: 0.5442 - val_accuracy: 0.9515\n",
            "Epoch 12/20\n",
            "469/469 [==============================] - 2s 4ms/step - loss: 0.5461 - accuracy: 0.9517 - val_loss: 0.5089 - val_accuracy: 0.9576\n",
            "Epoch 13/20\n",
            "469/469 [==============================] - 2s 4ms/step - loss: 0.5328 - accuracy: 0.9536 - val_loss: 0.5153 - val_accuracy: 0.9579\n",
            "Epoch 14/20\n",
            "469/469 [==============================] - 2s 3ms/step - loss: 0.5298 - accuracy: 0.9542 - val_loss: 0.5186 - val_accuracy: 0.9542\n",
            "Epoch 15/20\n",
            "469/469 [==============================] - 2s 4ms/step - loss: 0.5254 - accuracy: 0.9541 - val_loss: 0.5167 - val_accuracy: 0.9530\n",
            "Epoch 16/20\n",
            "469/469 [==============================] - 2s 4ms/step - loss: 0.5250 - accuracy: 0.9533 - val_loss: 0.5267 - val_accuracy: 0.9485\n",
            "Epoch 17/20\n",
            "469/469 [==============================] - 2s 3ms/step - loss: 0.5124 - accuracy: 0.9569 - val_loss: 0.5046 - val_accuracy: 0.9569\n",
            "Epoch 18/20\n",
            "469/469 [==============================] - 2s 3ms/step - loss: 0.5070 - accuracy: 0.9576 - val_loss: 0.5132 - val_accuracy: 0.9578\n",
            "Epoch 19/20\n",
            "469/469 [==============================] - 2s 4ms/step - loss: 0.5088 - accuracy: 0.9576 - val_loss: 0.4995 - val_accuracy: 0.9563\n",
            "Epoch 20/20\n",
            "469/469 [==============================] - 1s 3ms/step - loss: 0.4997 - accuracy: 0.9582 - val_loss: 0.5292 - val_accuracy: 0.9455\n"
          ],
          "name": "stdout"
        }
      ]
    },
    {
      "cell_type": "code",
      "metadata": {
        "id": "c6PZNNNnPzmv",
        "colab": {
          "base_uri": "https://localhost:8080/"
        },
        "outputId": "807da2e1-6a4c-4068-ab2a-710ddbd09790"
      },
      "source": [
        "from keras import models\n",
        "from keras import layers\n",
        "from keras.datasets import mnist\n",
        "from tensorflow.keras.utils import to_categorical\n",
        "from keras import regularizers\n",
        "\n",
        "(train_images, train_labels), (test_images, test_labels) = mnist.load_data()\n",
        "\n",
        "train_labels_categ = to_categorical(train_labels)\n",
        "test_labels_categ = to_categorical(test_labels)\n",
        "\n",
        "train_images1 = train_images.reshape((60000, 28 * 28))\n",
        "train_images1 = train_images1.astype('float32') / 255\n",
        "\n",
        "test_images1 = test_images.reshape((10000, 28 * 28))\n",
        "test_images1 = test_images1.astype('float32') / 255\n",
        "\n",
        "network = models.Sequential()\n",
        "network.add(layers.Dense(512, activation='relu', input_shape=(28 * 28,))) # first layer \n",
        "network.add(layers.Dropout(0.5))\n",
        "network.add(layers.Dense(10, activation='softmax')) # output layer\n",
        "    \n",
        "network.compile(optimizer='rmsprop',\n",
        "              loss='categorical_crossentropy',\n",
        "              metrics=['accuracy'])\n",
        "history = network.fit(train_images1, train_labels_categ, epochs= 20, batch_size= 128,\n",
        "                    validation_data=(test_images1, test_labels_categ))"
      ],
      "execution_count": 58,
      "outputs": [
        {
          "output_type": "stream",
          "text": [
            "Epoch 1/20\n",
            "469/469 [==============================] - 3s 4ms/step - loss: 0.5122 - accuracy: 0.8483 - val_loss: 0.1491 - val_accuracy: 0.9542\n",
            "Epoch 2/20\n",
            "469/469 [==============================] - 2s 3ms/step - loss: 0.1651 - accuracy: 0.9498 - val_loss: 0.1043 - val_accuracy: 0.9687\n",
            "Epoch 3/20\n",
            "469/469 [==============================] - 2s 4ms/step - loss: 0.1181 - accuracy: 0.9637 - val_loss: 0.0917 - val_accuracy: 0.9735\n",
            "Epoch 4/20\n",
            "469/469 [==============================] - 2s 3ms/step - loss: 0.0979 - accuracy: 0.9705 - val_loss: 0.0812 - val_accuracy: 0.9760\n",
            "Epoch 5/20\n",
            "469/469 [==============================] - 2s 3ms/step - loss: 0.0889 - accuracy: 0.9731 - val_loss: 0.0795 - val_accuracy: 0.9763\n",
            "Epoch 6/20\n",
            "469/469 [==============================] - 2s 3ms/step - loss: 0.0814 - accuracy: 0.9755 - val_loss: 0.0801 - val_accuracy: 0.9782\n",
            "Epoch 7/20\n",
            "469/469 [==============================] - 2s 3ms/step - loss: 0.0704 - accuracy: 0.9788 - val_loss: 0.0742 - val_accuracy: 0.9803\n",
            "Epoch 8/20\n",
            "469/469 [==============================] - 2s 3ms/step - loss: 0.0671 - accuracy: 0.9793 - val_loss: 0.0698 - val_accuracy: 0.9812\n",
            "Epoch 9/20\n",
            "469/469 [==============================] - 2s 3ms/step - loss: 0.0577 - accuracy: 0.9826 - val_loss: 0.0728 - val_accuracy: 0.9810\n",
            "Epoch 10/20\n",
            "469/469 [==============================] - 2s 3ms/step - loss: 0.0568 - accuracy: 0.9826 - val_loss: 0.0695 - val_accuracy: 0.9812\n",
            "Epoch 11/20\n",
            "469/469 [==============================] - 2s 3ms/step - loss: 0.0537 - accuracy: 0.9842 - val_loss: 0.0709 - val_accuracy: 0.9813\n",
            "Epoch 12/20\n",
            "469/469 [==============================] - 2s 3ms/step - loss: 0.0537 - accuracy: 0.9842 - val_loss: 0.0715 - val_accuracy: 0.9808\n",
            "Epoch 13/20\n",
            "469/469 [==============================] - 2s 3ms/step - loss: 0.0504 - accuracy: 0.9856 - val_loss: 0.0762 - val_accuracy: 0.9807\n",
            "Epoch 14/20\n",
            "469/469 [==============================] - 2s 3ms/step - loss: 0.0429 - accuracy: 0.9871 - val_loss: 0.0724 - val_accuracy: 0.9823\n",
            "Epoch 15/20\n",
            "469/469 [==============================] - 1s 3ms/step - loss: 0.0434 - accuracy: 0.9866 - val_loss: 0.0711 - val_accuracy: 0.9823\n",
            "Epoch 16/20\n",
            "469/469 [==============================] - 1s 3ms/step - loss: 0.0431 - accuracy: 0.9870 - val_loss: 0.0721 - val_accuracy: 0.9818\n",
            "Epoch 17/20\n",
            "469/469 [==============================] - 2s 4ms/step - loss: 0.0398 - accuracy: 0.9872 - val_loss: 0.0772 - val_accuracy: 0.9823\n",
            "Epoch 18/20\n",
            "469/469 [==============================] - 1s 3ms/step - loss: 0.0382 - accuracy: 0.9891 - val_loss: 0.0739 - val_accuracy: 0.9828\n",
            "Epoch 19/20\n",
            "469/469 [==============================] - 2s 4ms/step - loss: 0.0390 - accuracy: 0.9886 - val_loss: 0.0768 - val_accuracy: 0.9840\n",
            "Epoch 20/20\n",
            "469/469 [==============================] - 1s 3ms/step - loss: 0.0401 - accuracy: 0.9880 - val_loss: 0.0759 - val_accuracy: 0.9827\n"
          ],
          "name": "stdout"
        }
      ]
    },
    {
      "cell_type": "code",
      "metadata": {
        "id": "m0U4mrjdPzmw",
        "colab": {
          "base_uri": "https://localhost:8080/"
        },
        "outputId": "e620750c-8e70-4f18-ea8f-1e40220e6eda"
      },
      "source": [
        "from keras import models\n",
        "from keras import layers\n",
        "from keras.datasets import mnist\n",
        "from tensorflow.keras.utils import to_categorical\n",
        "from keras import regularizers\n",
        "\n",
        "(train_images, train_labels), (test_images, test_labels) = mnist.load_data()\n",
        "\n",
        "train_labels_categ = to_categorical(train_labels)\n",
        "test_labels_categ = to_categorical(test_labels)\n",
        "\n",
        "train_images1 = train_images.reshape((60000, 28 * 28))\n",
        "train_images1 = train_images1.astype('float32') / 255\n",
        "\n",
        "test_images1 = test_images.reshape((10000, 28 * 28))\n",
        "test_images1 = test_images1.astype('float32') / 255\n",
        "\n",
        "network = models.Sequential()\n",
        "network.add(layers.Dense(512, kernel_regularizer = regularizers.l1(0.001), activation='relu', input_shape=(28 * 28,))) # first layer \n",
        "network.add(layers.Dropout(0.5))\n",
        "network.add(layers.Dense(10, activation='softmax')) # output layer\n",
        "    \n",
        "network.compile(optimizer='rmsprop',\n",
        "              loss='categorical_crossentropy',\n",
        "              metrics=['accuracy'])\n",
        "history = network.fit(train_images1, train_labels_categ, epochs= 20, batch_size= 128,\n",
        "                    validation_data=(test_images1, test_labels_categ))"
      ],
      "execution_count": 59,
      "outputs": [
        {
          "output_type": "stream",
          "text": [
            "Epoch 1/20\n",
            "469/469 [==============================] - 3s 4ms/step - loss: 4.1191 - accuracy: 0.7924 - val_loss: 1.0559 - val_accuracy: 0.8795\n",
            "Epoch 2/20\n",
            "469/469 [==============================] - 2s 3ms/step - loss: 1.0886 - accuracy: 0.8620 - val_loss: 1.0048 - val_accuracy: 0.8791\n",
            "Epoch 3/20\n",
            "469/469 [==============================] - 2s 3ms/step - loss: 0.9892 - accuracy: 0.8749 - val_loss: 0.8571 - val_accuracy: 0.9147\n",
            "Epoch 4/20\n",
            "469/469 [==============================] - 2s 4ms/step - loss: 0.9286 - accuracy: 0.8888 - val_loss: 0.7861 - val_accuracy: 0.9316\n",
            "Epoch 5/20\n",
            "469/469 [==============================] - 2s 3ms/step - loss: 0.8762 - accuracy: 0.8984 - val_loss: 0.7624 - val_accuracy: 0.9304\n",
            "Epoch 6/20\n",
            "469/469 [==============================] - 2s 4ms/step - loss: 0.8642 - accuracy: 0.8981 - val_loss: 0.7437 - val_accuracy: 0.9353\n",
            "Epoch 7/20\n",
            "469/469 [==============================] - 2s 3ms/step - loss: 0.8396 - accuracy: 0.9016 - val_loss: 0.7950 - val_accuracy: 0.9230\n",
            "Epoch 8/20\n",
            "469/469 [==============================] - 2s 4ms/step - loss: 0.8235 - accuracy: 0.9065 - val_loss: 0.7471 - val_accuracy: 0.9290\n",
            "Epoch 9/20\n",
            "469/469 [==============================] - 2s 4ms/step - loss: 0.8142 - accuracy: 0.9088 - val_loss: 0.7308 - val_accuracy: 0.9299\n",
            "Epoch 10/20\n",
            "469/469 [==============================] - 2s 4ms/step - loss: 0.8061 - accuracy: 0.9082 - val_loss: 0.7318 - val_accuracy: 0.9327\n",
            "Epoch 11/20\n",
            "469/469 [==============================] - 2s 3ms/step - loss: 0.7960 - accuracy: 0.9110 - val_loss: 0.7494 - val_accuracy: 0.9267\n",
            "Epoch 12/20\n",
            "469/469 [==============================] - 2s 4ms/step - loss: 0.7894 - accuracy: 0.9103 - val_loss: 0.7013 - val_accuracy: 0.9418\n",
            "Epoch 13/20\n",
            "469/469 [==============================] - 2s 4ms/step - loss: 0.7789 - accuracy: 0.9150 - val_loss: 0.6573 - val_accuracy: 0.9522\n",
            "Epoch 14/20\n",
            "469/469 [==============================] - 2s 4ms/step - loss: 0.7763 - accuracy: 0.9154 - val_loss: 0.7357 - val_accuracy: 0.9253\n",
            "Epoch 15/20\n",
            "469/469 [==============================] - 2s 3ms/step - loss: 0.7717 - accuracy: 0.9133 - val_loss: 0.6685 - val_accuracy: 0.9462\n",
            "Epoch 16/20\n",
            "469/469 [==============================] - 2s 3ms/step - loss: 0.7638 - accuracy: 0.9165 - val_loss: 0.6619 - val_accuracy: 0.9493\n",
            "Epoch 17/20\n",
            "469/469 [==============================] - 2s 3ms/step - loss: 0.7706 - accuracy: 0.9149 - val_loss: 0.6735 - val_accuracy: 0.9435\n",
            "Epoch 18/20\n",
            "469/469 [==============================] - 2s 4ms/step - loss: 0.7697 - accuracy: 0.9150 - val_loss: 0.6417 - val_accuracy: 0.9517\n",
            "Epoch 19/20\n",
            "469/469 [==============================] - 2s 3ms/step - loss: 0.7570 - accuracy: 0.9187 - val_loss: 0.6683 - val_accuracy: 0.9409\n",
            "Epoch 20/20\n",
            "469/469 [==============================] - 2s 3ms/step - loss: 0.7693 - accuracy: 0.9147 - val_loss: 0.6510 - val_accuracy: 0.9547\n"
          ],
          "name": "stdout"
        }
      ]
    },
    {
      "cell_type": "code",
      "metadata": {
        "id": "MI8swLM-Pzmw"
      },
      "source": [
        ""
      ],
      "execution_count": 59,
      "outputs": []
    }
  ]
}